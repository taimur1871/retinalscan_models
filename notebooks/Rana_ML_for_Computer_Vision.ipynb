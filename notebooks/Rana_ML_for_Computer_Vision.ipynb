{
  "nbformat": 4,
  "nbformat_minor": 0,
  "metadata": {
    "colab": {
      "name": "Rana ML_for_Computer_Vision.ipynb",
      "provenance": [],
      "collapsed_sections": []
    },
    "kernelspec": {
      "name": "python3",
      "display_name": "Python 3"
    },
    "accelerator": "GPU"
  },
  "cells": [
    {
      "cell_type": "markdown",
      "metadata": {
        "id": "dQ8_RRcaZNXV"
      },
      "source": [
        "## This assignment is designed for automated pathology detection for Medical Images in a relalistic setup, i.e. each image may have multiple pathologies/disorders. \n",
        "### The goal, for you as an MLE, is to design models and methods to predictively detect pathological images and explain the pathology sites in the image data."
      ]
    },
    {
      "cell_type": "markdown",
      "metadata": {
        "id": "eK8M8sjWZVg9"
      },
      "source": [
        "## Data for this assignment is taken from a Kaggle contest: https://www.kaggle.com/c/vietai-advance-course-retinal-disease-detection/overview\n",
        "Explanation of the data set:\n",
        "The training data set contains 3435 retinal images that represent multiple pathological disorders. The patholgy classes and corresponding labels are: included in 'train.csv' file and each image can have more than one class category (multiple pathologies).\n",
        "The labels for each image are\n",
        "\n",
        "```\n",
        "-opacity (0), \n",
        "-diabetic retinopathy (1), \n",
        "-glaucoma (2),\n",
        "-macular edema (3),\n",
        "-macular degeneration (4),\n",
        "-retinal vascular occlusion (5)\n",
        "-normal (6)\n",
        "```\n",
        "The test data set contains 350 unlabelled images."
      ]
    },
    {
      "cell_type": "markdown",
      "metadata": {
        "id": "LhDeT7B2Zk2S"
      },
      "source": [
        "# For this assignment, you are working with specialists for Diabetic Retinopathy and Glaucoma only, and your client is interested in a predictive learning model along with feature explanability and self-learning for Diabetic Retinopathy and Glaucoma vs. Normal images.\n",
        "# Design models and methods for the following tasks. Each task should be accompanied by code, plots/images (if applicable), tables (if applicable) and text:\n",
        "## Task 1: Build a classification model for Diabetic Retinopathy and Glaucoma vs normal images. You may consider multi-class classification vs. all-vs-one classification. Clearly state your choice and share details of your model, paremeters and hyper-paramaterization pprocess. (60 points)\n",
        "```\n",
        "a. Perform 70/30 data split and report performance scores on the test data set.\n",
        "b. You can choose to apply any data augmentation strategy. \n",
        "Explain your methods and rationale behind parameter selection.\n",
        "c. Show Training-validation curves to ensure overfitting and underfitting is avoided.\n",
        "```\n",
        "## Task 2: Visualize the heatmap/saliency/features using any method of your choice to demonstrate what regions of interest contribute to Diabetic Retinopathy and Glaucoma, respectively. (25 points)\n",
        "```\n",
        "Submit images/folder of images with heatmaps/features aligned on top of the images, or corresponding bounding boxes, and report what regions of interest in your opinion represent the pathological sites.\n",
        "```\n",
        "\n",
        "## Task 3: Using the unlabelled data set in the 'test' folder augment the training data (semi-supervised learning) and report the variation in classification performance on test data set.(15 points)\n",
        "[You may use any method of your choice, one possible way is mentioned below.] \n",
        "\n",
        "```\n",
        "Hint: \n",
        "a. Train a model using the 'train' split.\n",
        "b. Pass the unlabelled images through the trained model and retrieve the dense layer feature prior to classification layer. Using this dense layer as representative of the image, apply label propagation to retrieve labels correspndng to the unbalelled data.\n",
        "c. Next, concatenate the train data with the unlabelled data (that has now been self labelled) and retrain the network.\n",
        "d. Report classification performance on test data\n",
        "Use the unlabelled test data  to improve classification performance by using a semi-supervised label-propagation/self-labelling approach. (20 points)\n",
        "```"
      ]
    },
    {
      "cell_type": "code",
      "metadata": {
        "id": "bljPwe0Hac4s"
      },
      "source": [
        "# importing the required modules\n",
        "import pandas as pd\n",
        "import numpy as np\n",
        "import cv2\n",
        "import PIL.Image\n",
        "import os\n",
        "\n",
        "import tensorflow as tf\n",
        "from tensorflow.keras.preprocessing.image import ImageDataGenerator"
      ],
      "execution_count": null,
      "outputs": []
    },
    {
      "cell_type": "code",
      "metadata": {
        "id": "O32oTKmbZJJu"
      },
      "source": [
        "# find path for the data\n",
        "data_path = '/content/drive/MyDrive/4BAI/Week 8/Mid Term/Data'"
      ],
      "execution_count": null,
      "outputs": []
    },
    {
      "cell_type": "markdown",
      "metadata": {
        "id": "ox7d4ymeaUhY"
      },
      "source": [
        "### Process the Training Data"
      ]
    },
    {
      "cell_type": "code",
      "metadata": {
        "colab": {
          "base_uri": "https://localhost:8080/",
          "height": 204
        },
        "id": "rn4xxeBraC0r",
        "outputId": "3d5e976a-109f-4b58-98ad-e14d2e0f7f96"
      },
      "source": [
        "# read the training labels\n",
        "train_labels = pd.read_csv(os.path.join(data_path, 'train/train.csv'))\n",
        "train_labels.head()"
      ],
      "execution_count": null,
      "outputs": [
        {
          "output_type": "execute_result",
          "data": {
            "text/html": [
              "<div>\n",
              "<style scoped>\n",
              "    .dataframe tbody tr th:only-of-type {\n",
              "        vertical-align: middle;\n",
              "    }\n",
              "\n",
              "    .dataframe tbody tr th {\n",
              "        vertical-align: top;\n",
              "    }\n",
              "\n",
              "    .dataframe thead th {\n",
              "        text-align: right;\n",
              "    }\n",
              "</style>\n",
              "<table border=\"1\" class=\"dataframe\">\n",
              "  <thead>\n",
              "    <tr style=\"text-align: right;\">\n",
              "      <th></th>\n",
              "      <th>filename</th>\n",
              "      <th>opacity</th>\n",
              "      <th>diabetic retinopathy</th>\n",
              "      <th>glaucoma</th>\n",
              "      <th>macular edema</th>\n",
              "      <th>macular degeneration</th>\n",
              "      <th>retinal vascular occlusion</th>\n",
              "      <th>normal</th>\n",
              "    </tr>\n",
              "  </thead>\n",
              "  <tbody>\n",
              "    <tr>\n",
              "      <th>0</th>\n",
              "      <td>c24a1b14d253.jpg</td>\n",
              "      <td>0</td>\n",
              "      <td>0</td>\n",
              "      <td>0</td>\n",
              "      <td>0</td>\n",
              "      <td>0</td>\n",
              "      <td>1</td>\n",
              "      <td>0</td>\n",
              "    </tr>\n",
              "    <tr>\n",
              "      <th>1</th>\n",
              "      <td>9ee905a41651.jpg</td>\n",
              "      <td>0</td>\n",
              "      <td>0</td>\n",
              "      <td>0</td>\n",
              "      <td>0</td>\n",
              "      <td>0</td>\n",
              "      <td>1</td>\n",
              "      <td>0</td>\n",
              "    </tr>\n",
              "    <tr>\n",
              "      <th>2</th>\n",
              "      <td>3f58d128caf6.jpg</td>\n",
              "      <td>0</td>\n",
              "      <td>0</td>\n",
              "      <td>1</td>\n",
              "      <td>0</td>\n",
              "      <td>0</td>\n",
              "      <td>0</td>\n",
              "      <td>0</td>\n",
              "    </tr>\n",
              "    <tr>\n",
              "      <th>3</th>\n",
              "      <td>4ce6599e7b20.jpg</td>\n",
              "      <td>1</td>\n",
              "      <td>0</td>\n",
              "      <td>0</td>\n",
              "      <td>0</td>\n",
              "      <td>1</td>\n",
              "      <td>0</td>\n",
              "      <td>0</td>\n",
              "    </tr>\n",
              "    <tr>\n",
              "      <th>4</th>\n",
              "      <td>0def470360e4.jpg</td>\n",
              "      <td>1</td>\n",
              "      <td>0</td>\n",
              "      <td>0</td>\n",
              "      <td>0</td>\n",
              "      <td>1</td>\n",
              "      <td>0</td>\n",
              "      <td>0</td>\n",
              "    </tr>\n",
              "  </tbody>\n",
              "</table>\n",
              "</div>"
            ],
            "text/plain": [
              "           filename  opacity  ...  retinal vascular occlusion  normal\n",
              "0  c24a1b14d253.jpg        0  ...                           1       0\n",
              "1  9ee905a41651.jpg        0  ...                           1       0\n",
              "2  3f58d128caf6.jpg        0  ...                           0       0\n",
              "3  4ce6599e7b20.jpg        1  ...                           0       0\n",
              "4  0def470360e4.jpg        1  ...                           0       0\n",
              "\n",
              "[5 rows x 8 columns]"
            ]
          },
          "metadata": {
            "tags": []
          },
          "execution_count": 3
        }
      ]
    },
    {
      "cell_type": "code",
      "metadata": {
        "colab": {
          "base_uri": "https://localhost:8080/",
          "height": 204
        },
        "id": "sw0jegOrbLNe",
        "outputId": "71e42d12-e7a9-4728-c5c8-abf1a2f9f615"
      },
      "source": [
        "train_labels.head()"
      ],
      "execution_count": null,
      "outputs": [
        {
          "output_type": "execute_result",
          "data": {
            "text/html": [
              "<div>\n",
              "<style scoped>\n",
              "    .dataframe tbody tr th:only-of-type {\n",
              "        vertical-align: middle;\n",
              "    }\n",
              "\n",
              "    .dataframe tbody tr th {\n",
              "        vertical-align: top;\n",
              "    }\n",
              "\n",
              "    .dataframe thead th {\n",
              "        text-align: right;\n",
              "    }\n",
              "</style>\n",
              "<table border=\"1\" class=\"dataframe\">\n",
              "  <thead>\n",
              "    <tr style=\"text-align: right;\">\n",
              "      <th></th>\n",
              "      <th>filename</th>\n",
              "      <th>opacity</th>\n",
              "      <th>diabetic retinopathy</th>\n",
              "      <th>glaucoma</th>\n",
              "      <th>macular edema</th>\n",
              "      <th>macular degeneration</th>\n",
              "      <th>retinal vascular occlusion</th>\n",
              "      <th>normal</th>\n",
              "    </tr>\n",
              "  </thead>\n",
              "  <tbody>\n",
              "    <tr>\n",
              "      <th>0</th>\n",
              "      <td>c24a1b14d253.jpg</td>\n",
              "      <td>0</td>\n",
              "      <td>0</td>\n",
              "      <td>0</td>\n",
              "      <td>0</td>\n",
              "      <td>0</td>\n",
              "      <td>1</td>\n",
              "      <td>0</td>\n",
              "    </tr>\n",
              "    <tr>\n",
              "      <th>1</th>\n",
              "      <td>9ee905a41651.jpg</td>\n",
              "      <td>0</td>\n",
              "      <td>0</td>\n",
              "      <td>0</td>\n",
              "      <td>0</td>\n",
              "      <td>0</td>\n",
              "      <td>1</td>\n",
              "      <td>0</td>\n",
              "    </tr>\n",
              "    <tr>\n",
              "      <th>2</th>\n",
              "      <td>3f58d128caf6.jpg</td>\n",
              "      <td>0</td>\n",
              "      <td>0</td>\n",
              "      <td>1</td>\n",
              "      <td>0</td>\n",
              "      <td>0</td>\n",
              "      <td>0</td>\n",
              "      <td>0</td>\n",
              "    </tr>\n",
              "    <tr>\n",
              "      <th>3</th>\n",
              "      <td>4ce6599e7b20.jpg</td>\n",
              "      <td>1</td>\n",
              "      <td>0</td>\n",
              "      <td>0</td>\n",
              "      <td>0</td>\n",
              "      <td>1</td>\n",
              "      <td>0</td>\n",
              "      <td>0</td>\n",
              "    </tr>\n",
              "    <tr>\n",
              "      <th>4</th>\n",
              "      <td>0def470360e4.jpg</td>\n",
              "      <td>1</td>\n",
              "      <td>0</td>\n",
              "      <td>0</td>\n",
              "      <td>0</td>\n",
              "      <td>1</td>\n",
              "      <td>0</td>\n",
              "      <td>0</td>\n",
              "    </tr>\n",
              "  </tbody>\n",
              "</table>\n",
              "</div>"
            ],
            "text/plain": [
              "           filename  opacity  ...  retinal vascular occlusion  normal\n",
              "0  c24a1b14d253.jpg        0  ...                           1       0\n",
              "1  9ee905a41651.jpg        0  ...                           1       0\n",
              "2  3f58d128caf6.jpg        0  ...                           0       0\n",
              "3  4ce6599e7b20.jpg        1  ...                           0       0\n",
              "4  0def470360e4.jpg        1  ...                           0       0\n",
              "\n",
              "[5 rows x 8 columns]"
            ]
          },
          "metadata": {
            "tags": []
          },
          "execution_count": 7
        }
      ]
    },
    {
      "cell_type": "markdown",
      "metadata": {
        "id": "6PljE5vNbXwd"
      },
      "source": [
        "### Create Data Pipelines"
      ]
    },
    {
      "cell_type": "code",
      "metadata": {
        "id": "NqRzKLYM3eql"
      },
      "source": [
        "# function to load images to numpy array and normalize\n",
        "def img_to_np(img_path):\n",
        "  img_temp = cv2.imread(img_path, 1)\n",
        "  img_temp = (img_temp/255.0).astype(np.float32)\n",
        "  return img_temp"
      ],
      "execution_count": null,
      "outputs": []
    },
    {
      "cell_type": "code",
      "metadata": {
        "id": "c2FOS_XA3Kgb"
      },
      "source": [
        "# define image size and channels\n",
        "IMAGE_SIZE = 512\n",
        "CHANNELS = 3"
      ],
      "execution_count": null,
      "outputs": []
    },
    {
      "cell_type": "code",
      "metadata": {
        "id": "3WoCkfqj6pNU"
      },
      "source": [
        "# training image dir\n",
        "train_img_dir = '/content/drive/MyDrive/4BAI/Week 8/Mid Term/Data/train/train'\n",
        "\n",
        "# testing image dir\n",
        "test_img_dir = '/content/drive/MyDrive/4BAI/Week 8/Mid Term/Data/test/test'"
      ],
      "execution_count": null,
      "outputs": []
    },
    {
      "cell_type": "code",
      "metadata": {
        "id": "UAJyUUpV30LG"
      },
      "source": [
        "# temp code to check image loading and also normalizing image\n",
        "def get_img_iterator(img_dir):\n",
        "  images_list = []\n",
        "  temp_file_list = os.listdir(img_dir)\n",
        "  for item in temp_file_list:\n",
        "    images_list.append(img_to_np(os.path.join(img_dir, item)))\n",
        "  \n",
        "  return np.array(images_list)"
      ],
      "execution_count": null,
      "outputs": []
    },
    {
      "cell_type": "code",
      "metadata": {
        "id": "MoozQ1Ik8RIq"
      },
      "source": [
        "train_np = get_img_iterator(train_img_dir)"
      ],
      "execution_count": null,
      "outputs": []
    },
    {
      "cell_type": "code",
      "metadata": {
        "id": "8HkFG6OM8aPM"
      },
      "source": [
        "train_np.shape"
      ],
      "execution_count": null,
      "outputs": []
    },
    {
      "cell_type": "code",
      "metadata": {
        "id": "mafK_fIIbRZB"
      },
      "source": [
        "# using tf data for getting images and lables\n",
        "train_datagen = tf.data.Dataset.as_numpy_iterator"
      ],
      "execution_count": null,
      "outputs": []
    }
  ]
}