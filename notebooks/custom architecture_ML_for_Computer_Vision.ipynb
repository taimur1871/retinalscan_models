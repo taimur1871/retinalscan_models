{
 "cells": [
  {
   "cell_type": "markdown",
   "metadata": {
    "id": "dQ8_RRcaZNXV"
   },
   "source": [
    "## This assignment is designed for automated pathology detection for Medical Images in a relalistic setup, i.e. each image may have multiple pathologies/disorders. \n",
    "### The goal, for you as an MLE, is to design models and methods to predictively detect pathological images and explain the pathology sites in the image data."
   ]
  },
  {
   "cell_type": "markdown",
   "metadata": {
    "id": "eK8M8sjWZVg9"
   },
   "source": [
    "## Data for this assignment is taken from a Kaggle contest: https://www.kaggle.com/c/vietai-advance-course-retinal-disease-detection/overview\n",
    "Explanation of the data set:\n",
    "The training data set contains 3435 retinal images that represent multiple pathological disorders. The patholgy classes and corresponding labels are: included in 'train.csv' file and each image can have more than one class category (multiple pathologies).\n",
    "The labels for each image are\n",
    "\n",
    "```\n",
    "-opacity (0), \n",
    "-diabetic retinopathy (1), \n",
    "-glaucoma (2),\n",
    "-macular edema (3),\n",
    "-macular degeneration (4),\n",
    "-retinal vascular occlusion (5)\n",
    "-normal (6)\n",
    "```\n",
    "The test data set contains 350 unlabelled images."
   ]
  },
  {
   "cell_type": "markdown",
   "metadata": {
    "id": "LhDeT7B2Zk2S"
   },
   "source": [
    "# For this assignment, you are working with specialists for Diabetic Retinopathy and Glaucoma only, and your client is interested in a predictive learning model along with feature explanability and self-learning for Diabetic Retinopathy and Glaucoma vs. Normal images.\n",
    "# Design models and methods for the following tasks. Each task should be accompanied by code, plots/images (if applicable), tables (if applicable) and text:\n",
    "## Task 1: Build a classification model for Diabetic Retinopathy and Glaucoma vs normal images. You may consider multi-class classification vs. all-vs-one classification. Clearly state your choice and share details of your model, paremeters and hyper-paramaterization pprocess. (60 points)\n",
    "```\n",
    "a. Perform 70/30 data split and report performance scores on the test data set.\n",
    "b. You can choose to apply any data augmentation strategy. \n",
    "Explain your methods and rationale behind parameter selection.\n",
    "c. Show Training-validation curves to ensure overfitting and underfitting is avoided.\n",
    "```\n",
    "## Task 2: Visualize the heatmap/saliency/features using any method of your choice to demonstrate what regions of interest contribute to Diabetic Retinopathy and Glaucoma, respectively. (25 points)\n",
    "```\n",
    "Submit images/folder of images with heatmaps/features aligned on top of the images, or corresponding bounding boxes, and report what regions of interest in your opinion represent the pathological sites.\n",
    "```\n",
    "\n",
    "## Task 3: Using the unlabelled data set in the 'test' folder augment the training data (semi-supervised learning) and report the variation in classification performance on test data set.(15 points)\n",
    "[You may use any method of your choice, one possible way is mentioned below.] \n",
    "\n",
    "```\n",
    "Hint: \n",
    "a. Train a model using the 'train' split.\n",
    "b. Pass the unlabelled images through the trained model and retrieve the dense layer feature prior to classification layer. Using this dense layer as representative of the image, apply label propagation to retrieve labels correspndng to the unbalelled data.\n",
    "c. Next, concatenate the train data with the unlabelled data (that has now been self labelled) and retrain the network.\n",
    "d. Report classification performance on test data\n",
    "Use the unlabelled test data  to improve classification performance by using a semi-supervised label-propagation/self-labelling approach. (20 points)\n",
    "```"
   ]
  },
  {
   "cell_type": "markdown",
   "metadata": {
    "id": "yDtJ-ochsLL9"
   },
   "source": [
    "# Task 1: Create a classifier\n",
    "\n",
    "The first attempt for this task was based on a multi-label strategy. I have kept some of the code for that in the notebook. However, there were several issues with that approach. The biggest one being the system not being able to form a very good decision boundary as a result everything started getting classified into a general category.\n",
    "\n",
    "The second approach is based on a conventional multiclass classifier. However, this also resulted in very low accuracy and unreliable results.\n",
    "\n",
    "The third approach is based binary classification of \n",
    "* diabetic retinopathy vs normal\n",
    "* glaucoma vs normal\n",
    "* other vs normal\n",
    "\n",
    "The reason for this is that all of these ailments look at different parts of retina. So by changing preprocessing we are able to focus at different sections of the scan and make more accurate predictions."
   ]
  },
  {
   "cell_type": "code",
   "execution_count": 1,
   "metadata": {
    "id": "bljPwe0Hac4s"
   },
   "outputs": [],
   "source": [
    "# importing the required modules\n",
    "import pandas as pd\n",
    "import numpy as np\n",
    "import cv2\n",
    "from PIL import Image, ImageEnhance\n",
    "import os\n",
    "import shutil\n",
    "\n",
    "import numpy as np\n",
    "\n",
    "import matplotlib.pyplot as plt\n",
    "import matplotlib.image as mpimg\n",
    "\n",
    "#from google.colab.patches import cv2_imshow\n",
    "\n",
    "import tensorflow as tf\n",
    "from tensorflow.keras.preprocessing.image import ImageDataGenerator\n",
    "from tensorflow.keras.backend import gradients, mean\n",
    "\n",
    "from sklearn.model_selection import train_test_split"
   ]
  },
  {
   "cell_type": "code",
   "execution_count": 2,
   "metadata": {
    "id": "O32oTKmbZJJu"
   },
   "outputs": [],
   "source": [
    "# find path for the data\n",
    "data_path = 'Data'"
   ]
  },
  {
   "cell_type": "markdown",
   "metadata": {
    "id": "ox7d4ymeaUhY"
   },
   "source": [
    "### Process the Training Data"
   ]
  },
  {
   "cell_type": "code",
   "execution_count": 4,
   "metadata": {
    "colab": {
     "base_uri": "https://localhost:8080/",
     "height": 235
    },
    "id": "rn4xxeBraC0r",
    "outputId": "71dab59f-13c7-4c5b-e713-7d9c0b7f3544"
   },
   "outputs": [
    {
     "data": {
      "text/html": [
       "<div>\n",
       "<style scoped>\n",
       "    .dataframe tbody tr th:only-of-type {\n",
       "        vertical-align: middle;\n",
       "    }\n",
       "\n",
       "    .dataframe tbody tr th {\n",
       "        vertical-align: top;\n",
       "    }\n",
       "\n",
       "    .dataframe thead th {\n",
       "        text-align: right;\n",
       "    }\n",
       "</style>\n",
       "<table border=\"1\" class=\"dataframe\">\n",
       "  <thead>\n",
       "    <tr style=\"text-align: right;\">\n",
       "      <th></th>\n",
       "      <th>opacity</th>\n",
       "      <th>diabetic retinopathy</th>\n",
       "      <th>glaucoma</th>\n",
       "      <th>macular edema</th>\n",
       "      <th>macular degeneration</th>\n",
       "      <th>retinal vascular occlusion</th>\n",
       "      <th>normal</th>\n",
       "    </tr>\n",
       "    <tr>\n",
       "      <th>filename</th>\n",
       "      <th></th>\n",
       "      <th></th>\n",
       "      <th></th>\n",
       "      <th></th>\n",
       "      <th></th>\n",
       "      <th></th>\n",
       "      <th></th>\n",
       "    </tr>\n",
       "  </thead>\n",
       "  <tbody>\n",
       "    <tr>\n",
       "      <th>c24a1b14d253.jpg</th>\n",
       "      <td>0</td>\n",
       "      <td>0</td>\n",
       "      <td>0</td>\n",
       "      <td>0</td>\n",
       "      <td>0</td>\n",
       "      <td>1</td>\n",
       "      <td>0</td>\n",
       "    </tr>\n",
       "    <tr>\n",
       "      <th>9ee905a41651.jpg</th>\n",
       "      <td>0</td>\n",
       "      <td>0</td>\n",
       "      <td>0</td>\n",
       "      <td>0</td>\n",
       "      <td>0</td>\n",
       "      <td>1</td>\n",
       "      <td>0</td>\n",
       "    </tr>\n",
       "    <tr>\n",
       "      <th>3f58d128caf6.jpg</th>\n",
       "      <td>0</td>\n",
       "      <td>0</td>\n",
       "      <td>1</td>\n",
       "      <td>0</td>\n",
       "      <td>0</td>\n",
       "      <td>0</td>\n",
       "      <td>0</td>\n",
       "    </tr>\n",
       "    <tr>\n",
       "      <th>4ce6599e7b20.jpg</th>\n",
       "      <td>1</td>\n",
       "      <td>0</td>\n",
       "      <td>0</td>\n",
       "      <td>0</td>\n",
       "      <td>1</td>\n",
       "      <td>0</td>\n",
       "      <td>0</td>\n",
       "    </tr>\n",
       "    <tr>\n",
       "      <th>0def470360e4.jpg</th>\n",
       "      <td>1</td>\n",
       "      <td>0</td>\n",
       "      <td>0</td>\n",
       "      <td>0</td>\n",
       "      <td>1</td>\n",
       "      <td>0</td>\n",
       "      <td>0</td>\n",
       "    </tr>\n",
       "  </tbody>\n",
       "</table>\n",
       "</div>"
      ],
      "text/plain": [
       "                  opacity  diabetic retinopathy  glaucoma  macular edema  \\\n",
       "filename                                                                   \n",
       "c24a1b14d253.jpg        0                     0         0              0   \n",
       "9ee905a41651.jpg        0                     0         0              0   \n",
       "3f58d128caf6.jpg        0                     0         1              0   \n",
       "4ce6599e7b20.jpg        1                     0         0              0   \n",
       "0def470360e4.jpg        1                     0         0              0   \n",
       "\n",
       "                  macular degeneration  retinal vascular occlusion  normal  \n",
       "filename                                                                    \n",
       "c24a1b14d253.jpg                     0                           1       0  \n",
       "9ee905a41651.jpg                     0                           1       0  \n",
       "3f58d128caf6.jpg                     0                           0       0  \n",
       "4ce6599e7b20.jpg                     1                           0       0  \n",
       "0def470360e4.jpg                     1                           0       0  "
      ]
     },
     "execution_count": 4,
     "metadata": {},
     "output_type": "execute_result"
    }
   ],
   "source": [
    "# read the training labels\n",
    "train_labels = pd.read_csv(os.path.join(data_path, 'train/train.csv'))\n",
    "train_labels.set_index('filename', inplace=True)\n",
    "train_labels.head()"
   ]
  },
  {
   "cell_type": "markdown",
   "metadata": {
    "id": "6PljE5vNbXwd"
   },
   "source": [
    "### Create Data Pipelines"
   ]
  },
  {
   "cell_type": "code",
   "execution_count": 4,
   "metadata": {},
   "outputs": [],
   "source": [
    "# direcotries containing files\n",
    "normal_dir = 'Data/separated_pics_train/normal'\n",
    "glaucoma_dir = 'Data/separated_pics_train/glaucoma'\n",
    "dbr_dir = 'Data/separated_pics_train/diabetic retinopathy'\n",
    "other_dir = 'Data/separated_pics_train/other'"
   ]
  },
  {
   "cell_type": "code",
   "execution_count": null,
   "metadata": {},
   "outputs": [],
   "source": [
    "# move files to new directories\n",
    "#shutil.copytree(normal_dir, 'Data/norm vs dbr/normal')\n",
    "#shutil.copytree(dbr_dir, 'Data/norm vs dbr/dbr')\n",
    "\n",
    "#shutil.copytree(normal_dir, 'Data/norm vs glc/normal')\n",
    "#shutil.copytree(glaucoma_dir, 'Data/norm vs glc/glc')\n",
    "\n",
    "#shutil.copytree(normal_dir, 'Data/norm vs other/normal')\n",
    "#shutil.copytree(other_dir, 'Data/norm vs other/other')"
   ]
  },
  {
   "cell_type": "markdown",
   "metadata": {
    "id": "oR8iRNCIzpvy"
   },
   "source": [
    "### Creating callback for saving models and stopping training if certain accuracy is reached."
   ]
  },
  {
   "cell_type": "code",
   "execution_count": null,
   "metadata": {
    "id": "HA_7g6MF_K9j"
   },
   "outputs": [],
   "source": [
    "# define callback to stop training if a certain accuracy is achieved\n",
    "class mycallback(tf.keras.callbacks.Callback):\n",
    "    def on_epoch_end(seld, epoch, logs={}):\n",
    "        if (logs.get('accuracy')>0.95):\n",
    "            print('\\nReached 95% accuracy so cancelling training')\n",
    "            self.model.stop_training = True\n",
    "    \n",
    "stop_train = mycallback()"
   ]
  },
  {
   "cell_type": "code",
   "execution_count": null,
   "metadata": {
    "id": "64VmMELl_K9j"
   },
   "outputs": [],
   "source": [
    "# callback for saving checkpoints during training\n",
    "accuracy_callback = tf.keras.callbacks.ModelCheckpoint(\n",
    "    'models/acc_ckpts',\n",
    "    monitor='loss',\n",
    "    verbose=0,\n",
    "    save_best_only=True,\n",
    "    save_weights_only=False,\n",
    "    mode='auto',\n",
    "    save_freq='epoch',\n",
    ")"
   ]
  },
  {
   "cell_type": "code",
   "execution_count": 25,
   "metadata": {},
   "outputs": [],
   "source": [
    "# function for lr decay\n",
    "def scheduler(epoch, lr):\n",
    "    if epoch % 10 != 0:\n",
    "        return lr\n",
    "    else:\n",
    "        return lr / 10"
   ]
  },
  {
   "cell_type": "code",
   "execution_count": 26,
   "metadata": {},
   "outputs": [],
   "source": [
    "# learning rate decay\n",
    "lr_decay = tf.keras.callbacks.LearningRateScheduler(scheduler)"
   ]
  },
  {
   "cell_type": "markdown",
   "metadata": {},
   "source": [
    "# Normal vs Diabetic Retinopathy"
   ]
  },
  {
   "cell_type": "code",
   "execution_count": 3,
   "metadata": {},
   "outputs": [],
   "source": [
    "# two category folders\n",
    "norm_dbr = 'Data/norm vs dbr'"
   ]
  },
  {
   "cell_type": "code",
   "execution_count": 8,
   "metadata": {
    "id": "c2FOS_XA3Kgb"
   },
   "outputs": [],
   "source": [
    "# define image size and channels\n",
    "IMG_SIZE = 224\n",
    "CHANNELS = 3\n",
    "\n",
    "BATCH_SIZE = 64"
   ]
  },
  {
   "cell_type": "code",
   "execution_count": 15,
   "metadata": {},
   "outputs": [],
   "source": [
    "# increasing contrast and brightness\n",
    "def contrast(img_np):\n",
    "    img = tf.image.adjust_contrast(img_np, 2)\n",
    "    img = tf.image.adjust_brightness(img, 0.5)\n",
    "    return img"
   ]
  },
  {
   "cell_type": "code",
   "execution_count": 16,
   "metadata": {
    "id": "ivs-oNfSwdnW"
   },
   "outputs": [],
   "source": [
    "train_datagen = ImageDataGenerator(\n",
    "    rotation_range=10.,\n",
    "    width_shift_range=0.2,\n",
    "    height_shift_range=0.2,\n",
    "    horizontal_flip=True,\n",
    "    vertical_flip=True,\n",
    "    fill_mode='constant',\n",
    "    data_format=\"channels_last\",\n",
    "    preprocessing_function=contrast,\n",
    "    validation_split = 0.3,\n",
    "    rescale=1.0/255.0\n",
    ")"
   ]
  },
  {
   "cell_type": "code",
   "execution_count": 17,
   "metadata": {
    "id": "nsUJYt0mytWI"
   },
   "outputs": [
    {
     "name": "stdout",
     "output_type": "stream",
     "text": [
      "Found 897 images belonging to 2 classes.\n"
     ]
    }
   ],
   "source": [
    "# create training data\n",
    "train_gen = train_datagen.flow_from_directory(\n",
    "    directory=norm_dbr,\n",
    "    shuffle=True, \n",
    "    target_size=(IMG_SIZE,IMG_SIZE),\n",
    "    batch_size=BATCH_SIZE,\n",
    "    subset='training'\n",
    ")"
   ]
  },
  {
   "cell_type": "code",
   "execution_count": 18,
   "metadata": {},
   "outputs": [
    {
     "name": "stdout",
     "output_type": "stream",
     "text": [
      "Found 383 images belonging to 2 classes.\n"
     ]
    }
   ],
   "source": [
    "# create training data\n",
    "val_gen = train_datagen.flow_from_directory(\n",
    "    directory=norm_dbr,\n",
    "    shuffle=True, \n",
    "    target_size=(IMG_SIZE,IMG_SIZE),\n",
    "    batch_size=BATCH_SIZE,\n",
    "    subset='validation'\n",
    ")"
   ]
  },
  {
   "cell_type": "markdown",
   "metadata": {
    "id": "Ev1qOfkS0HYb"
   },
   "source": [
    "### Create model"
   ]
  },
  {
   "cell_type": "code",
   "execution_count": 19,
   "metadata": {},
   "outputs": [],
   "source": [
    "# define model\n",
    "#layer 1\n",
    "inputs = tf.keras.Input(shape = (224, 224, 3))\n",
    "x = tf.keras.layers.Conv2D(256, (3, 3), activation='relu')(inputs)\n",
    "x = tf.keras.layers.MaxPooling2D((2, 2))(x)\n",
    "\n",
    "# shallow feature extraction layer\n",
    "shallow = tf.keras.layers.Conv2D(32, (3,3), activation='relu')(x)\n",
    "shallow = tf.keras.layers.MaxPooling2D((2, 2))(shallow)\n",
    "shallow = tf.keras.layers.Conv2D(32, (3,3), activation='relu')(shallow)\n",
    "shallow = tf.keras.layers.MaxPooling2D((2, 2))(shallow)\n",
    "shallow = tf.keras.layers.Conv2D(32, (3,3), activation='relu')(shallow)\n",
    "shallow = tf.keras.layers.MaxPooling2D((2, 2))(shallow)\n",
    "shallow = tf.keras.layers.Flatten()(shallow)\n",
    "shallow = tf.keras.layers.Dense(64, activation='relu')(shallow)\n",
    "shallow = tf.keras.layers.Dense(64, activation='relu')(shallow)\n",
    "\n",
    "#layer 2\n",
    "x = tf.keras.layers.Conv2D(256, (3, 3), activation='relu')(x)\n",
    "x = tf.keras.layers.MaxPooling2D((2, 2))(x)\n",
    "\n",
    "#layer 3\n",
    "x = tf.keras.layers.Conv2D(64, (3, 3), activation='relu')(x)\n",
    "x = tf.keras.layers.MaxPooling2D((2, 2))(x)\n",
    "\n",
    "#layer 4\n",
    "x = tf.keras.layers.Conv2D(128, (1, 1), activation='relu')(x)\n",
    "x = tf.keras.layers.MaxPooling2D((2, 2))(x)\n",
    "\n",
    "#layer 5\n",
    "x = tf.keras.layers.Conv2D(64, (3, 3), activation='relu')(x)\n",
    "x = tf.keras.layers.MaxPooling2D((2, 2))(x)\n",
    "\n",
    "# flatten and add nueral layers\n",
    "x = tf.keras.layers.Flatten()(x)\n",
    "x = tf.keras.layers.Dense(256, activation='relu')(x) # first dense layer\n",
    "x = tf.keras.layers.Dense(128, activation='relu')(x) # second dense layer\n",
    "x = tf.keras.layers.Dense(128, activation='relu')(x) # third dense layer\n",
    "x = tf.keras.layers.Dense(64)(x) # fourth dense layer\n",
    "sum_x = tf.keras.layers.add([x , shallow]) # adding shallow layer\n",
    "\n",
    "output = tf.keras.layers.Dense(2, activation='sigmoid')(sum_x)"
   ]
  },
  {
   "cell_type": "code",
   "execution_count": 20,
   "metadata": {
    "id": "kI5lDdNv2-nu"
   },
   "outputs": [
    {
     "name": "stdout",
     "output_type": "stream",
     "text": [
      "Model: \"functional_3\"\n",
      "__________________________________________________________________________________________________\n",
      "Layer (type)                    Output Shape         Param #     Connected to                     \n",
      "==================================================================================================\n",
      "input_2 (InputLayer)            [(None, 224, 224, 3) 0                                            \n",
      "__________________________________________________________________________________________________\n",
      "conv2d_8 (Conv2D)               (None, 222, 222, 256 7168        input_2[0][0]                    \n",
      "__________________________________________________________________________________________________\n",
      "max_pooling2d_8 (MaxPooling2D)  (None, 111, 111, 256 0           conv2d_8[0][0]                   \n",
      "__________________________________________________________________________________________________\n",
      "conv2d_12 (Conv2D)              (None, 109, 109, 256 590080      max_pooling2d_8[0][0]            \n",
      "__________________________________________________________________________________________________\n",
      "max_pooling2d_12 (MaxPooling2D) (None, 54, 54, 256)  0           conv2d_12[0][0]                  \n",
      "__________________________________________________________________________________________________\n",
      "conv2d_13 (Conv2D)              (None, 52, 52, 64)   147520      max_pooling2d_12[0][0]           \n",
      "__________________________________________________________________________________________________\n",
      "max_pooling2d_13 (MaxPooling2D) (None, 26, 26, 64)   0           conv2d_13[0][0]                  \n",
      "__________________________________________________________________________________________________\n",
      "conv2d_14 (Conv2D)              (None, 26, 26, 128)  8320        max_pooling2d_13[0][0]           \n",
      "__________________________________________________________________________________________________\n",
      "conv2d_9 (Conv2D)               (None, 109, 109, 32) 73760       max_pooling2d_8[0][0]            \n",
      "__________________________________________________________________________________________________\n",
      "max_pooling2d_14 (MaxPooling2D) (None, 13, 13, 128)  0           conv2d_14[0][0]                  \n",
      "__________________________________________________________________________________________________\n",
      "max_pooling2d_9 (MaxPooling2D)  (None, 54, 54, 32)   0           conv2d_9[0][0]                   \n",
      "__________________________________________________________________________________________________\n",
      "conv2d_15 (Conv2D)              (None, 11, 11, 64)   73792       max_pooling2d_14[0][0]           \n",
      "__________________________________________________________________________________________________\n",
      "conv2d_10 (Conv2D)              (None, 52, 52, 32)   9248        max_pooling2d_9[0][0]            \n",
      "__________________________________________________________________________________________________\n",
      "max_pooling2d_15 (MaxPooling2D) (None, 5, 5, 64)     0           conv2d_15[0][0]                  \n",
      "__________________________________________________________________________________________________\n",
      "max_pooling2d_10 (MaxPooling2D) (None, 26, 26, 32)   0           conv2d_10[0][0]                  \n",
      "__________________________________________________________________________________________________\n",
      "flatten_3 (Flatten)             (None, 1600)         0           max_pooling2d_15[0][0]           \n",
      "__________________________________________________________________________________________________\n",
      "conv2d_11 (Conv2D)              (None, 24, 24, 32)   9248        max_pooling2d_10[0][0]           \n",
      "__________________________________________________________________________________________________\n",
      "dense_9 (Dense)                 (None, 256)          409856      flatten_3[0][0]                  \n",
      "__________________________________________________________________________________________________\n",
      "max_pooling2d_11 (MaxPooling2D) (None, 12, 12, 32)   0           conv2d_11[0][0]                  \n",
      "__________________________________________________________________________________________________\n",
      "dense_10 (Dense)                (None, 128)          32896       dense_9[0][0]                    \n",
      "__________________________________________________________________________________________________\n",
      "flatten_2 (Flatten)             (None, 4608)         0           max_pooling2d_11[0][0]           \n",
      "__________________________________________________________________________________________________\n",
      "dense_11 (Dense)                (None, 128)          16512       dense_10[0][0]                   \n",
      "__________________________________________________________________________________________________\n",
      "dense_7 (Dense)                 (None, 64)           294976      flatten_2[0][0]                  \n",
      "__________________________________________________________________________________________________\n",
      "dense_12 (Dense)                (None, 64)           8256        dense_11[0][0]                   \n",
      "__________________________________________________________________________________________________\n",
      "dense_8 (Dense)                 (None, 64)           4160        dense_7[0][0]                    \n",
      "__________________________________________________________________________________________________\n",
      "add_1 (Add)                     (None, 64)           0           dense_12[0][0]                   \n",
      "                                                                 dense_8[0][0]                    \n",
      "__________________________________________________________________________________________________\n",
      "dense_13 (Dense)                (None, 2)            130         add_1[0][0]                      \n",
      "==================================================================================================\n",
      "Total params: 1,685,922\n",
      "Trainable params: 1,685,922\n",
      "Non-trainable params: 0\n",
      "__________________________________________________________________________________________________\n"
     ]
    }
   ],
   "source": [
    "# define & summarize model\n",
    "model = tf.keras.Model(inputs, output)\n",
    "model.summary()\n",
    "model.compile(optimizer=tf.keras.optimizers.Adam(lr=0.001),\n",
    "              loss='categorical_crossentropy',\n",
    "              metrics='accuracy')"
   ]
  },
  {
   "cell_type": "markdown",
   "metadata": {},
   "source": [
    "Skipping the final activation layer and just getting the logits as these will be used for the final part of the assignment"
   ]
  },
  {
   "cell_type": "code",
   "execution_count": 21,
   "metadata": {},
   "outputs": [
    {
     "name": "stdout",
     "output_type": "stream",
     "text": [
      "Epoch 1/50\n",
      "14/14 [==============================] - 84s 6s/step - loss: 0.6685 - accuracy: 0.5726 - val_loss: 0.5782 - val_accuracy: 0.7781\n",
      "Epoch 2/50\n",
      "14/14 [==============================] - 82s 6s/step - loss: 0.5209 - accuracy: 0.7695 - val_loss: 0.4558 - val_accuracy: 0.8062\n",
      "Epoch 3/50\n",
      "14/14 [==============================] - 83s 6s/step - loss: 0.4716 - accuracy: 0.8091 - val_loss: 0.4450 - val_accuracy: 0.8125\n",
      "Epoch 4/50\n",
      "14/14 [==============================] - 83s 6s/step - loss: 0.3980 - accuracy: 0.8259 - val_loss: 0.4669 - val_accuracy: 0.8313\n",
      "Epoch 5/50\n",
      "14/14 [==============================] - 83s 6s/step - loss: 0.5001 - accuracy: 0.7959 - val_loss: 0.4584 - val_accuracy: 0.8062\n",
      "Epoch 6/50\n",
      "14/14 [==============================] - 82s 6s/step - loss: 0.4793 - accuracy: 0.8235 - val_loss: 0.4537 - val_accuracy: 0.8281\n",
      "Epoch 7/50\n",
      "14/14 [==============================] - 83s 6s/step - loss: 0.4008 - accuracy: 0.8427 - val_loss: 0.3762 - val_accuracy: 0.8406\n",
      "Epoch 8/50\n",
      "14/14 [==============================] - 83s 6s/step - loss: 0.4120 - accuracy: 0.8319 - val_loss: 0.4272 - val_accuracy: 0.8281\n",
      "Epoch 9/50\n",
      "14/14 [==============================] - 83s 6s/step - loss: 0.4093 - accuracy: 0.8487 - val_loss: 0.3709 - val_accuracy: 0.8500\n",
      "Epoch 10/50\n",
      "14/14 [==============================] - 82s 6s/step - loss: 0.4011 - accuracy: 0.8331 - val_loss: 0.4495 - val_accuracy: 0.8125\n",
      "Epoch 11/50\n",
      "14/14 [==============================] - 82s 6s/step - loss: 0.4177 - accuracy: 0.8295 - val_loss: 0.4438 - val_accuracy: 0.8062\n",
      "Epoch 12/50\n",
      "14/14 [==============================] - 82s 6s/step - loss: 0.4182 - accuracy: 0.8151 - val_loss: 0.3603 - val_accuracy: 0.8438\n",
      "Epoch 13/50\n",
      "14/14 [==============================] - 87s 6s/step - loss: 0.3956 - accuracy: 0.8415 - val_loss: 0.3709 - val_accuracy: 0.8406\n",
      "Epoch 14/50\n",
      "14/14 [==============================] - 82s 6s/step - loss: 0.3436 - accuracy: 0.8583 - val_loss: 0.3410 - val_accuracy: 0.8594\n",
      "Epoch 15/50\n",
      "14/14 [==============================] - 82s 6s/step - loss: 0.3518 - accuracy: 0.8583 - val_loss: 0.4149 - val_accuracy: 0.8281\n",
      "Epoch 16/50\n",
      "14/14 [==============================] - 82s 6s/step - loss: 0.3512 - accuracy: 0.8631 - val_loss: 0.3367 - val_accuracy: 0.8625\n",
      "Epoch 17/50\n",
      "14/14 [==============================] - 83s 6s/step - loss: 0.3461 - accuracy: 0.8571 - val_loss: 0.3454 - val_accuracy: 0.8594\n",
      "Epoch 18/50\n",
      "14/14 [==============================] - 83s 6s/step - loss: 0.3430 - accuracy: 0.8667 - val_loss: 0.4754 - val_accuracy: 0.7781\n",
      "Epoch 19/50\n",
      "14/14 [==============================] - 83s 6s/step - loss: 0.4233 - accuracy: 0.8355 - val_loss: 0.4428 - val_accuracy: 0.7906\n",
      "Epoch 20/50\n",
      "14/14 [==============================] - 83s 6s/step - loss: 0.3913 - accuracy: 0.8343 - val_loss: 0.3961 - val_accuracy: 0.8375\n",
      "Epoch 21/50\n",
      "14/14 [==============================] - 83s 6s/step - loss: 0.3520 - accuracy: 0.8679 - val_loss: 0.3545 - val_accuracy: 0.8406\n",
      "Epoch 22/50\n",
      "14/14 [==============================] - 83s 6s/step - loss: 0.3278 - accuracy: 0.8727 - val_loss: 0.3022 - val_accuracy: 0.8875\n",
      "Epoch 23/50\n",
      "14/14 [==============================] - 83s 6s/step - loss: 0.3094 - accuracy: 0.8872 - val_loss: 0.3512 - val_accuracy: 0.8750\n",
      "Epoch 24/50\n",
      "14/14 [==============================] - 82s 6s/step - loss: 0.3047 - accuracy: 0.8872 - val_loss: 0.3545 - val_accuracy: 0.8531\n",
      "Epoch 25/50\n",
      "14/14 [==============================] - 83s 6s/step - loss: 0.3144 - accuracy: 0.8655 - val_loss: 0.3341 - val_accuracy: 0.8625\n",
      "Epoch 26/50\n",
      "14/14 [==============================] - 83s 6s/step - loss: 0.3082 - accuracy: 0.8752 - val_loss: 0.3269 - val_accuracy: 0.8625\n",
      "Epoch 27/50\n",
      "14/14 [==============================] - 83s 6s/step - loss: 0.3317 - accuracy: 0.8655 - val_loss: 0.3509 - val_accuracy: 0.8562\n",
      "Epoch 28/50\n",
      "14/14 [==============================] - 87s 6s/step - loss: 0.2952 - accuracy: 0.8862 - val_loss: 0.3309 - val_accuracy: 0.8594\n",
      "Epoch 29/50\n",
      "14/14 [==============================] - 83s 6s/step - loss: 0.2951 - accuracy: 0.8884 - val_loss: 0.3392 - val_accuracy: 0.8687\n",
      "Epoch 30/50\n",
      "14/14 [==============================] - 82s 6s/step - loss: 0.3065 - accuracy: 0.8788 - val_loss: 0.2997 - val_accuracy: 0.8813\n",
      "Epoch 31/50\n",
      "14/14 [==============================] - 83s 6s/step - loss: 0.3575 - accuracy: 0.8715 - val_loss: 0.3513 - val_accuracy: 0.8594\n",
      "Epoch 32/50\n",
      "14/14 [==============================] - 87s 6s/step - loss: 0.3080 - accuracy: 0.8824 - val_loss: 0.3394 - val_accuracy: 0.8531\n",
      "Epoch 33/50\n",
      "14/14 [==============================] - 83s 6s/step - loss: 0.3157 - accuracy: 0.8788 - val_loss: 0.3462 - val_accuracy: 0.8500\n",
      "Epoch 34/50\n",
      "14/14 [==============================] - 83s 6s/step - loss: 0.3018 - accuracy: 0.8812 - val_loss: 0.3038 - val_accuracy: 0.8687\n",
      "Epoch 35/50\n",
      "14/14 [==============================] - 83s 6s/step - loss: 0.3132 - accuracy: 0.8727 - val_loss: 0.3413 - val_accuracy: 0.8656\n",
      "Epoch 36/50\n",
      "14/14 [==============================] - 82s 6s/step - loss: 0.3805 - accuracy: 0.8367 - val_loss: 0.4518 - val_accuracy: 0.8031\n",
      "Epoch 37/50\n",
      "14/14 [==============================] - 82s 6s/step - loss: 0.4061 - accuracy: 0.8391 - val_loss: 0.4129 - val_accuracy: 0.8406\n",
      "Epoch 38/50\n",
      "14/14 [==============================] - 86s 6s/step - loss: 0.3529 - accuracy: 0.8571 - val_loss: 0.3620 - val_accuracy: 0.8406\n",
      "Epoch 39/50\n",
      "14/14 [==============================] - 82s 6s/step - loss: 0.3021 - accuracy: 0.8896 - val_loss: 0.3021 - val_accuracy: 0.8875\n",
      "Epoch 40/50\n",
      "14/14 [==============================] - 82s 6s/step - loss: 0.3184 - accuracy: 0.8727 - val_loss: 0.3336 - val_accuracy: 0.8687\n",
      "Epoch 41/50\n",
      "14/14 [==============================] - 82s 6s/step - loss: 0.3081 - accuracy: 0.8812 - val_loss: 0.3166 - val_accuracy: 0.8687\n",
      "Epoch 42/50\n",
      "14/14 [==============================] - 82s 6s/step - loss: 0.2710 - accuracy: 0.9052 - val_loss: 0.4008 - val_accuracy: 0.8219\n",
      "Epoch 43/50\n",
      "14/14 [==============================] - 83s 6s/step - loss: 0.3769 - accuracy: 0.8439 - val_loss: 0.3357 - val_accuracy: 0.8625\n",
      "Epoch 44/50\n",
      "14/14 [==============================] - 87s 6s/step - loss: 0.3503 - accuracy: 0.8549 - val_loss: 0.3585 - val_accuracy: 0.8562\n",
      "Epoch 45/50\n",
      "14/14 [==============================] - 82s 6s/step - loss: 0.2960 - accuracy: 0.8739 - val_loss: 0.3471 - val_accuracy: 0.8500\n",
      "Epoch 46/50\n",
      "14/14 [==============================] - 82s 6s/step - loss: 0.3689 - accuracy: 0.8415 - val_loss: 0.3907 - val_accuracy: 0.8313\n",
      "Epoch 47/50\n",
      "14/14 [==============================] - 82s 6s/step - loss: 0.3498 - accuracy: 0.8499 - val_loss: 0.3502 - val_accuracy: 0.8594\n",
      "Epoch 48/50\n",
      "14/14 [==============================] - 82s 6s/step - loss: 0.3498 - accuracy: 0.8439 - val_loss: 0.3134 - val_accuracy: 0.8687\n",
      "Epoch 49/50\n",
      "14/14 [==============================] - 83s 6s/step - loss: 0.3217 - accuracy: 0.8691 - val_loss: 0.3285 - val_accuracy: 0.8719\n",
      "Epoch 50/50\n",
      "14/14 [==============================] - 82s 6s/step - loss: 0.3399 - accuracy: 0.8848 - val_loss: 0.3444 - val_accuracy: 0.8625\n"
     ]
    }
   ],
   "source": [
    "# train model\n",
    "history = model.fit(train_gen,\n",
    "                    steps_per_epoch=train_gen.samples // BATCH_SIZE,\n",
    "                    epochs= 50,\n",
    "                    verbose=1,\n",
    "                    validation_data=val_gen,\n",
    "                    validation_steps=val_gen.samples // BATCH_SIZE,\n",
    "                    callbacks=[lr_decay])"
   ]
  },
  {
   "cell_type": "code",
   "execution_count": 22,
   "metadata": {},
   "outputs": [],
   "source": [
    "model.save('models/dbr_v1.h5')\n",
    "model.save_weights('models/dbr_1/')"
   ]
  },
  {
   "cell_type": "code",
   "execution_count": 24,
   "metadata": {},
   "outputs": [
    {
     "data": {
      "image/png": "[encoded data removed]",
      "text/plain": [
       "<Figure size 432x288 with 1 Axes>"
      ]
     },
     "metadata": {
      "needs_background": "light"
     },
     "output_type": "display_data"
    }
   ],
   "source": [
    "# plottig history\n",
    "import matplotlib.pyplot as plt\n",
    "\n",
    "plt.plot(history.history['accuracy'], label='accuracy')\n",
    "plt.plot(history.history['val_accuracy'], label = 'val_accuracy')\n",
    "plt.xlabel('Epoch')\n",
    "plt.ylabel('Accuracy')\n",
    "plt.ylim([1, 0])\n",
    "plt.legend(loc='upper right')\n",
    "plt.show()"
   ]
  },
  {
   "cell_type": "markdown",
   "metadata": {},
   "source": [
    "# Normal vs Glaucoma"
   ]
  },
  {
   "cell_type": "code",
   "execution_count": null,
   "metadata": {},
   "outputs": [],
   "source": [
    "norm_glc = 'Data/norm vs glc'"
   ]
  },
  {
   "cell_type": "code",
   "execution_count": 8,
   "metadata": {
    "id": "c2FOS_XA3Kgb"
   },
   "outputs": [],
   "source": [
    "# define image size and channels\n",
    "IMG_SIZE = 224\n",
    "CHANNELS = 3\n",
    "\n",
    "BATCH_SIZE = 64"
   ]
  },
  {
   "cell_type": "code",
   "execution_count": 15,
   "metadata": {},
   "outputs": [],
   "source": [
    "# increasing contrast and brightness\n",
    "def contrast_only(img_np):\n",
    "    img = tf.image.adjust_contrast(img_np, 2)\n",
    "    img = tf.image.adjust_brightness(img, 0.5)\n",
    "    return img"
   ]
  },
  {
   "cell_type": "code",
   "execution_count": 16,
   "metadata": {
    "id": "ivs-oNfSwdnW"
   },
   "outputs": [],
   "source": [
    "train_datagen = ImageDataGenerator(\n",
    "    rotation_range=10.,\n",
    "    width_shift_range=0.2,\n",
    "    height_shift_range=0.2,\n",
    "    horizontal_flip=True,\n",
    "    vertical_flip=True,\n",
    "    fill_mode='constant',\n",
    "    data_format=\"channels_last\",\n",
    "    preprocessing_function=contrast_only,\n",
    "    validation_split = 0.3,\n",
    "    rescale=1.0/255.0\n",
    ")"
   ]
  },
  {
   "cell_type": "code",
   "execution_count": 17,
   "metadata": {
    "id": "nsUJYt0mytWI"
   },
   "outputs": [
    {
     "name": "stdout",
     "output_type": "stream",
     "text": [
      "Found 897 images belonging to 2 classes.\n"
     ]
    }
   ],
   "source": [
    "# create training data\n",
    "train_gen = train_datagen.flow_from_directory(\n",
    "    directory=norm_glc,\n",
    "    shuffle=True, \n",
    "    target_size=(IMG_SIZE,IMG_SIZE),\n",
    "    batch_size=BATCH_SIZE,\n",
    "    subset='training'\n",
    ")"
   ]
  },
  {
   "cell_type": "code",
   "execution_count": 18,
   "metadata": {},
   "outputs": [
    {
     "name": "stdout",
     "output_type": "stream",
     "text": [
      "Found 383 images belonging to 2 classes.\n"
     ]
    }
   ],
   "source": [
    "# create training data\n",
    "val_gen = train_datagen.flow_from_directory(\n",
    "    directory=norm_glc,\n",
    "    shuffle=True, \n",
    "    target_size=(IMG_SIZE,IMG_SIZE),\n",
    "    batch_size=BATCH_SIZE,\n",
    "    subset='validation'\n",
    ")"
   ]
  },
  {
   "cell_type": "markdown",
   "metadata": {
    "id": "Ev1qOfkS0HYb"
   },
   "source": [
    "### Create model"
   ]
  },
  {
   "cell_type": "code",
   "execution_count": 19,
   "metadata": {},
   "outputs": [],
   "source": [
    "# define model\n",
    "#layer 1\n",
    "inputs = tf.keras.Input(shape = (224, 224, 3))\n",
    "x = tf.keras.layers.Conv2D(256, (3, 3), activation='relu')(inputs)\n",
    "x = tf.keras.layers.MaxPooling2D((2, 2))(x)\n",
    "\n",
    "# shallow feature extraction layer\n",
    "shallow = tf.keras.layers.Conv2D(32, (3,3), activation='relu')(x)\n",
    "shallow = tf.keras.layers.MaxPooling2D((2, 2))(shallow)\n",
    "shallow = tf.keras.layers.Conv2D(32, (3,3), activation='relu')(shallow)\n",
    "shallow = tf.keras.layers.MaxPooling2D((2, 2))(shallow)\n",
    "shallow = tf.keras.layers.Conv2D(32, (3,3), activation='relu')(shallow)\n",
    "shallow = tf.keras.layers.MaxPooling2D((2, 2))(shallow)\n",
    "shallow = tf.keras.layers.Flatten()(shallow)\n",
    "shallow = tf.keras.layers.Dense(64, activation='relu')(shallow)\n",
    "shallow = tf.keras.layers.Dense(64, activation='relu')(shallow)\n",
    "\n",
    "#layer 2\n",
    "x = tf.keras.layers.Conv2D(256, (3, 3), activation='relu')(x)\n",
    "x = tf.keras.layers.MaxPooling2D((2, 2))(x)\n",
    "\n",
    "#layer 3\n",
    "x = tf.keras.layers.Conv2D(64, (3, 3), activation='relu')(x)\n",
    "x = tf.keras.layers.MaxPooling2D((2, 2))(x)\n",
    "\n",
    "#layer 4\n",
    "x = tf.keras.layers.Conv2D(128, (1, 1), activation='relu')(x)\n",
    "x = tf.keras.layers.MaxPooling2D((2, 2))(x)\n",
    "\n",
    "#layer 5\n",
    "x = tf.keras.layers.Conv2D(64, (3, 3), activation='relu')(x)\n",
    "x = tf.keras.layers.MaxPooling2D((2, 2))(x)\n",
    "\n",
    "# flatten and add nueral layers\n",
    "x = tf.keras.layers.Flatten()(x)\n",
    "x = tf.keras.layers.Dense(256, activation='relu')(x) # first dense layer\n",
    "x = tf.keras.layers.Dense(128, activation='relu')(x) # second dense layer\n",
    "x = tf.keras.layers.Dense(128, activation='relu')(x) # third dense layer\n",
    "x = tf.keras.layers.Dense(64)(x) # fourth dense layer\n",
    "sum_x = tf.keras.layers.add([x , shallow]) # adding shallow layer\n",
    "\n",
    "output = tf.keras.layers.Dense(2, activation='sigmoid')(sum_x)"
   ]
  },
  {
   "cell_type": "code",
   "execution_count": null,
   "metadata": {
    "id": "kI5lDdNv2-nu"
   },
   "outputs": [],
   "source": [
    "# define & summarize model\n",
    "model = tf.keras.Model(inputs, output)\n",
    "model.summary()\n",
    "model.compile(optimizer=tf.keras.optimizers.Adam(lr=0.001),\n",
    "              loss='categorical_crossentropy',\n",
    "              metrics='accuracy')"
   ]
  },
  {
   "cell_type": "markdown",
   "metadata": {},
   "source": [
    "Skipping the final activation layer and just getting the logits as these will be used for the final part of the assignment"
   ]
  },
  {
   "cell_type": "code",
   "execution_count": null,
   "metadata": {},
   "outputs": [],
   "source": [
    "# train model\n",
    "history = model.fit(train_gen,\n",
    "                    steps_per_epoch=train_gen.samples // BATCH_SIZE,\n",
    "                    epochs= 50,\n",
    "                    verbose=1,\n",
    "                    validation_data=val_gen,\n",
    "                    validation_steps=val_gen.samples // BATCH_SIZE,)\n",
    "                    #callbacks=[stop_train, accuracy_callback, lr_decay])"
   ]
  },
  {
   "cell_type": "code",
   "execution_count": null,
   "metadata": {},
   "outputs": [],
   "source": [
    "model.save('models/glc_v1.h5')\n",
    "model.save_weights('models/glc_1/')"
   ]
  },
  {
   "cell_type": "code",
   "execution_count": null,
   "metadata": {},
   "outputs": [],
   "source": [
    "# plottig history\n",
    "import matplotlib.pyplot as plt\n",
    "\n",
    "plt.plot(history.history['accuracy'], label='accuracy')\n",
    "plt.plot(history.history['val_accuracy'], label = 'val_accuracy')\n",
    "plt.xlabel('Epoch')\n",
    "plt.ylabel('Accuracy')\n",
    "plt.ylim([1, 0])\n",
    "plt.legend(loc='upper right')\n",
    "plt.show()"
   ]
  },
  {
   "cell_type": "markdown",
   "metadata": {},
   "source": [
    "# Normal vs Other"
   ]
  },
  {
   "cell_type": "code",
   "execution_count": null,
   "metadata": {},
   "outputs": [],
   "source": [
    "norm_oth = 'Data/norm vs other'"
   ]
  },
  {
   "cell_type": "code",
   "execution_count": 8,
   "metadata": {
    "id": "c2FOS_XA3Kgb"
   },
   "outputs": [],
   "source": [
    "# define image size and channels\n",
    "IMG_SIZE = 224\n",
    "CHANNELS = 3\n",
    "\n",
    "BATCH_SIZE = 64"
   ]
  },
  {
   "cell_type": "code",
   "execution_count": 15,
   "metadata": {},
   "outputs": [],
   "source": [
    "# increasing contrast and brightness\n",
    "def contrast(img_np):\n",
    "    img = tf.image.adjust_contrast(img_np, 2)\n",
    "    img = tf.image.adjust_brightness(img, 0.5)\n",
    "    return img"
   ]
  },
  {
   "cell_type": "code",
   "execution_count": 16,
   "metadata": {
    "id": "ivs-oNfSwdnW"
   },
   "outputs": [],
   "source": [
    "train_datagen = ImageDataGenerator(\n",
    "    rotation_range=10.,\n",
    "    width_shift_range=0.2,\n",
    "    height_shift_range=0.2,\n",
    "    horizontal_flip=True,\n",
    "    vertical_flip=True,\n",
    "    fill_mode='constant',\n",
    "    data_format=\"channels_last\",\n",
    "    preprocessing_function=contrast,\n",
    "    validation_split = 0.3,\n",
    "    rescale=1.0/255.0\n",
    ")"
   ]
  },
  {
   "cell_type": "code",
   "execution_count": 17,
   "metadata": {
    "id": "nsUJYt0mytWI"
   },
   "outputs": [
    {
     "name": "stdout",
     "output_type": "stream",
     "text": [
      "Found 897 images belonging to 2 classes.\n"
     ]
    }
   ],
   "source": [
    "# create training data\n",
    "train_gen = train_datagen.flow_from_directory(\n",
    "    directory=norm_oth,\n",
    "    shuffle=True, \n",
    "    target_size=(IMG_SIZE,IMG_SIZE),\n",
    "    batch_size=BATCH_SIZE,\n",
    "    subset='training'\n",
    ")"
   ]
  },
  {
   "cell_type": "code",
   "execution_count": 18,
   "metadata": {},
   "outputs": [
    {
     "name": "stdout",
     "output_type": "stream",
     "text": [
      "Found 383 images belonging to 2 classes.\n"
     ]
    }
   ],
   "source": [
    "# create training data\n",
    "val_gen = train_datagen.flow_from_directory(\n",
    "    directory=norm_oth,\n",
    "    shuffle=True, \n",
    "    target_size=(IMG_SIZE,IMG_SIZE),\n",
    "    batch_size=BATCH_SIZE,\n",
    "    subset='validation'\n",
    ")"
   ]
  },
  {
   "cell_type": "markdown",
   "metadata": {
    "id": "Ev1qOfkS0HYb"
   },
   "source": [
    "### Create model"
   ]
  },
  {
   "cell_type": "code",
   "execution_count": 19,
   "metadata": {},
   "outputs": [],
   "source": [
    "# define model\n",
    "#layer 1\n",
    "inputs = tf.keras.Input(shape = (224, 224, 3))\n",
    "x = tf.keras.layers.Conv2D(256, (3, 3), activation='relu')(inputs)\n",
    "x = tf.keras.layers.MaxPooling2D((2, 2))(x)\n",
    "\n",
    "# shallow feature extraction layer\n",
    "shallow = tf.keras.layers.Conv2D(32, (3,3), activation='relu')(x)\n",
    "shallow = tf.keras.layers.MaxPooling2D((2, 2))(shallow)\n",
    "shallow = tf.keras.layers.Conv2D(32, (3,3), activation='relu')(shallow)\n",
    "shallow = tf.keras.layers.MaxPooling2D((2, 2))(shallow)\n",
    "shallow = tf.keras.layers.Conv2D(32, (3,3), activation='relu')(shallow)\n",
    "shallow = tf.keras.layers.MaxPooling2D((2, 2))(shallow)\n",
    "shallow = tf.keras.layers.Flatten()(shallow)\n",
    "shallow = tf.keras.layers.Dense(64, activation='relu')(shallow)\n",
    "shallow = tf.keras.layers.Dense(64, activation='relu')(shallow)\n",
    "\n",
    "#layer 2\n",
    "x = tf.keras.layers.Conv2D(256, (3, 3), activation='relu')(x)\n",
    "x = tf.keras.layers.MaxPooling2D((2, 2))(x)\n",
    "\n",
    "#layer 3\n",
    "x = tf.keras.layers.Conv2D(64, (3, 3), activation='relu')(x)\n",
    "x = tf.keras.layers.MaxPooling2D((2, 2))(x)\n",
    "\n",
    "#layer 4\n",
    "x = tf.keras.layers.Conv2D(128, (1, 1), activation='relu')(x)\n",
    "x = tf.keras.layers.MaxPooling2D((2, 2))(x)\n",
    "\n",
    "#layer 5\n",
    "x = tf.keras.layers.Conv2D(64, (3, 3), activation='relu')(x)\n",
    "x = tf.keras.layers.MaxPooling2D((2, 2))(x)\n",
    "\n",
    "# flatten and add nueral layers\n",
    "x = tf.keras.layers.Flatten()(x)\n",
    "x = tf.keras.layers.Dense(256, activation='relu')(x) # first dense layer\n",
    "x = tf.keras.layers.Dense(128, activation='relu')(x) # second dense layer\n",
    "x = tf.keras.layers.Dense(128, activation='relu')(x) # third dense layer\n",
    "x = tf.keras.layers.Dense(64)(x) # fourth dense layer\n",
    "sum_x = tf.keras.layers.add([x , shallow]) # adding shallow layer\n",
    "\n",
    "output = tf.keras.layers.Dense(2, activation='sigmoid')(sum_x)"
   ]
  },
  {
   "cell_type": "code",
   "execution_count": 20,
   "metadata": {
    "id": "kI5lDdNv2-nu"
   },
   "outputs": [
    {
     "name": "stdout",
     "output_type": "stream",
     "text": [
      "Model: \"functional_3\"\n",
      "__________________________________________________________________________________________________\n",
      "Layer (type)                    Output Shape         Param #     Connected to                     \n",
      "==================================================================================================\n",
      "input_2 (InputLayer)            [(None, 224, 224, 3) 0                                            \n",
      "__________________________________________________________________________________________________\n",
      "conv2d_8 (Conv2D)               (None, 222, 222, 256 7168        input_2[0][0]                    \n",
      "__________________________________________________________________________________________________\n",
      "max_pooling2d_8 (MaxPooling2D)  (None, 111, 111, 256 0           conv2d_8[0][0]                   \n",
      "__________________________________________________________________________________________________\n",
      "conv2d_12 (Conv2D)              (None, 109, 109, 256 590080      max_pooling2d_8[0][0]            \n",
      "__________________________________________________________________________________________________\n",
      "max_pooling2d_12 (MaxPooling2D) (None, 54, 54, 256)  0           conv2d_12[0][0]                  \n",
      "__________________________________________________________________________________________________\n",
      "conv2d_13 (Conv2D)              (None, 52, 52, 64)   147520      max_pooling2d_12[0][0]           \n",
      "__________________________________________________________________________________________________\n",
      "max_pooling2d_13 (MaxPooling2D) (None, 26, 26, 64)   0           conv2d_13[0][0]                  \n",
      "__________________________________________________________________________________________________\n",
      "conv2d_14 (Conv2D)              (None, 26, 26, 128)  8320        max_pooling2d_13[0][0]           \n",
      "__________________________________________________________________________________________________\n",
      "conv2d_9 (Conv2D)               (None, 109, 109, 32) 73760       max_pooling2d_8[0][0]            \n",
      "__________________________________________________________________________________________________\n",
      "max_pooling2d_14 (MaxPooling2D) (None, 13, 13, 128)  0           conv2d_14[0][0]                  \n",
      "__________________________________________________________________________________________________\n",
      "max_pooling2d_9 (MaxPooling2D)  (None, 54, 54, 32)   0           conv2d_9[0][0]                   \n",
      "__________________________________________________________________________________________________\n",
      "conv2d_15 (Conv2D)              (None, 11, 11, 64)   73792       max_pooling2d_14[0][0]           \n",
      "__________________________________________________________________________________________________\n",
      "conv2d_10 (Conv2D)              (None, 52, 52, 32)   9248        max_pooling2d_9[0][0]            \n",
      "__________________________________________________________________________________________________\n",
      "max_pooling2d_15 (MaxPooling2D) (None, 5, 5, 64)     0           conv2d_15[0][0]                  \n",
      "__________________________________________________________________________________________________\n",
      "max_pooling2d_10 (MaxPooling2D) (None, 26, 26, 32)   0           conv2d_10[0][0]                  \n",
      "__________________________________________________________________________________________________\n",
      "flatten_3 (Flatten)             (None, 1600)         0           max_pooling2d_15[0][0]           \n",
      "__________________________________________________________________________________________________\n",
      "conv2d_11 (Conv2D)              (None, 24, 24, 32)   9248        max_pooling2d_10[0][0]           \n",
      "__________________________________________________________________________________________________\n",
      "dense_9 (Dense)                 (None, 256)          409856      flatten_3[0][0]                  \n",
      "__________________________________________________________________________________________________\n",
      "max_pooling2d_11 (MaxPooling2D) (None, 12, 12, 32)   0           conv2d_11[0][0]                  \n",
      "__________________________________________________________________________________________________\n",
      "dense_10 (Dense)                (None, 128)          32896       dense_9[0][0]                    \n",
      "__________________________________________________________________________________________________\n",
      "flatten_2 (Flatten)             (None, 4608)         0           max_pooling2d_11[0][0]           \n",
      "__________________________________________________________________________________________________\n",
      "dense_11 (Dense)                (None, 128)          16512       dense_10[0][0]                   \n",
      "__________________________________________________________________________________________________\n",
      "dense_7 (Dense)                 (None, 64)           294976      flatten_2[0][0]                  \n",
      "__________________________________________________________________________________________________\n",
      "dense_12 (Dense)                (None, 64)           8256        dense_11[0][0]                   \n",
      "__________________________________________________________________________________________________\n",
      "dense_8 (Dense)                 (None, 64)           4160        dense_7[0][0]                    \n",
      "__________________________________________________________________________________________________\n",
      "add_1 (Add)                     (None, 64)           0           dense_12[0][0]                   \n",
      "                                                                 dense_8[0][0]                    \n",
      "__________________________________________________________________________________________________\n",
      "dense_13 (Dense)                (None, 2)            130         add_1[0][0]                      \n",
      "==================================================================================================\n",
      "Total params: 1,685,922\n",
      "Trainable params: 1,685,922\n",
      "Non-trainable params: 0\n",
      "__________________________________________________________________________________________________\n"
     ]
    }
   ],
   "source": [
    "# define & summarize model\n",
    "model = tf.keras.Model(inputs, output)\n",
    "model.summary()\n",
    "model.compile(optimizer=tf.keras.optimizers.Adam(lr=0.001),\n",
    "              loss='categorical_crossentropy',\n",
    "              metrics='accuracy')"
   ]
  },
  {
   "cell_type": "markdown",
   "metadata": {},
   "source": [
    "Skipping the final activation layer and just getting the logits as these will be used for the final part of the assignment"
   ]
  },
  {
   "cell_type": "code",
   "execution_count": null,
   "metadata": {},
   "outputs": [],
   "source": [
    "# train model\n",
    "history = model.fit(train_gen,\n",
    "                    steps_per_epoch=train_gen.samples // BATCH_SIZE,\n",
    "                    epochs= 50,\n",
    "                    verbose=1,\n",
    "                    validation_data=val_gen,\n",
    "                    validation_steps=val_gen.samples // BATCH_SIZE,)\n",
    "                    #callbacks=[stop_train, accuracy_callback, lr_decay])"
   ]
  },
  {
   "cell_type": "code",
   "execution_count": null,
   "metadata": {},
   "outputs": [],
   "source": [
    "model.save('models/oth_v1.h5')\n",
    "model.save_weights('models/oth_1/')"
   ]
  },
  {
   "cell_type": "code",
   "execution_count": null,
   "metadata": {},
   "outputs": [],
   "source": [
    "# plottig history\n",
    "import matplotlib.pyplot as plt\n",
    "\n",
    "plt.plot(history.history['accuracy'], label='accuracy')\n",
    "plt.plot(history.history['val_accuracy'], label = 'val_accuracy')\n",
    "plt.xlabel('Epoch')\n",
    "plt.ylabel('Accuracy')\n",
    "plt.ylim([1, 0])\n",
    "plt.legend(loc='upper right')\n",
    "plt.show()"
   ]
  }
 ],
 "metadata": {
  "accelerator": "GPU",
  "colab": {
   "collapsed_sections": [],
   "name": "Rana ML_for_Computer_Vision.ipynb",
   "provenance": []
  },
  "environment": {
   "name": "tf2-2-3-gpu.2-3.m59",
   "type": "gcloud",
   "uri": "gcr.io/deeplearning-platform-release/tf2-2-3-gpu.2-3:m59"
  },
  "kernelspec": {
   "display_name": "Python 3",
   "language": "python",
   "name": "python3"
  },
  "language_info": {
   "codemirror_mode": {
    "name": "ipython",
    "version": 3
   },
   "file_extension": ".py",
   "mimetype": "text/x-python",
   "name": "python",
   "nbconvert_exporter": "python",
   "pygments_lexer": "ipython3",
   "version": "3.7.8"
  }
 },
 "nbformat": 4,
 "nbformat_minor": 4
}
