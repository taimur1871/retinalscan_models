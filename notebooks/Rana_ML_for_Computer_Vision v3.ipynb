{
 "cells": [
  {
   "cell_type": "markdown",
   "metadata": {
    "id": "dQ8_RRcaZNXV"
   },
   "source": [
    "## This assignment is designed for automated pathology detection for Medical Images in a relalistic setup, i.e. each image may have multiple pathologies/disorders. \n",
    "### The goal, for you as an MLE, is to design models and methods to predictively detect pathological images and explain the pathology sites in the image data."
   ]
  },
  {
   "cell_type": "markdown",
   "metadata": {
    "id": "eK8M8sjWZVg9"
   },
   "source": [
    "## Data for this assignment is taken from a Kaggle contest: https://www.kaggle.com/c/vietai-advance-course-retinal-disease-detection/overview\n",
    "Explanation of the data set:\n",
    "The training data set contains 3435 retinal images that represent multiple pathological disorders. The patholgy classes and corresponding labels are: included in 'train.csv' file and each image can have more than one class category (multiple pathologies).\n",
    "The labels for each image are\n",
    "\n",
    "```\n",
    "-opacity (0), \n",
    "-diabetic retinopathy (1), \n",
    "-glaucoma (2),\n",
    "-macular edema (3),\n",
    "-macular degeneration (4),\n",
    "-retinal vascular occlusion (5)\n",
    "-normal (6)\n",
    "```\n",
    "The test data set contains 350 unlabelled images."
   ]
  },
  {
   "cell_type": "markdown",
   "metadata": {
    "id": "LhDeT7B2Zk2S"
   },
   "source": [
    "# For this assignment, you are working with specialists for Diabetic Retinopathy and Glaucoma only, and your client is interested in a predictive learning model along with feature explanability and self-learning for Diabetic Retinopathy and Glaucoma vs. Normal images.\n",
    "# Design models and methods for the following tasks. Each task should be accompanied by code, plots/images (if applicable), tables (if applicable) and text:\n",
    "## Task 1: Build a classification model for Diabetic Retinopathy and Glaucoma vs normal images. You may consider multi-class classification vs. all-vs-one classification. Clearly state your choice and share details of your model, paremeters and hyper-paramaterization pprocess. (60 points)\n",
    "```\n",
    "a. Perform 70/30 data split and report performance scores on the test data set.\n",
    "b. You can choose to apply any data augmentation strategy. \n",
    "Explain your methods and rationale behind parameter selection.\n",
    "c. Show Training-validation curves to ensure overfitting and underfitting is avoided.\n",
    "```\n",
    "## Task 2: Visualize the heatmap/saliency/features using any method of your choice to demonstrate what regions of interest contribute to Diabetic Retinopathy and Glaucoma, respectively. (25 points)\n",
    "```\n",
    "Submit images/folder of images with heatmaps/features aligned on top of the images, or corresponding bounding boxes, and report what regions of interest in your opinion represent the pathological sites.\n",
    "```\n",
    "\n",
    "## Task 3: Using the unlabelled data set in the 'test' folder augment the training data (semi-supervised learning) and report the variation in classification performance on test data set.(15 points)\n",
    "[You may use any method of your choice, one possible way is mentioned below.] \n",
    "\n",
    "```\n",
    "Hint: \n",
    "a. Train a model using the 'train' split.\n",
    "b. Pass the unlabelled images through the trained model and retrieve the dense layer feature prior to classification layer. Using this dense layer as representative of the image, apply label propagation to retrieve labels correspndng to the unbalelled data.\n",
    "c. Next, concatenate the train data with the unlabelled data (that has now been self labelled) and retrain the network.\n",
    "d. Report classification performance on test data\n",
    "Use the unlabelled test data  to improve classification performance by using a semi-supervised label-propagation/self-labelling approach. (20 points)\n",
    "```"
   ]
  },
  {
   "cell_type": "markdown",
   "metadata": {
    "id": "yDtJ-ochsLL9"
   },
   "source": [
    "# Task 1: Create a classifier\n",
    "\n",
    "The first attempt for this task was based on a multi-label strategy. I have kept some of the code for that in the notebook. However, there were several issues with that approach. The biggest one being the system not being able to form a very good decision boundary as a result everything started getting classified into a general category.\n",
    "\n",
    "The current approach is based on a conventional multiclass classifier."
   ]
  },
  {
   "cell_type": "code",
   "execution_count": 279,
   "metadata": {
    "id": "bljPwe0Hac4s"
   },
   "outputs": [],
   "source": [
    "# importing the required modules\n",
    "import pandas as pd\n",
    "import numpy as np\n",
    "import cv2\n",
    "from PIL import Image, ImageEnhance\n",
    "import os\n",
    "import shutil\n",
    "\n",
    "import numpy as np\n",
    "\n",
    "import matplotlib.pyplot as plt\n",
    "import matplotlib.image as mpimg\n",
    "\n",
    "#from google.colab.patches import cv2_imshow\n",
    "\n",
    "import tensorflow as tf\n",
    "from tensorflow.keras.preprocessing.image import ImageDataGenerator\n",
    "from tensorflow.keras.backend import gradients, mean\n",
    "\n",
    "from sklearn.model_selection import train_test_split"
   ]
  },
  {
   "cell_type": "code",
   "execution_count": 3,
   "metadata": {
    "id": "O32oTKmbZJJu"
   },
   "outputs": [],
   "source": [
    "# find path for the data\n",
    "data_path = 'Data'"
   ]
  },
  {
   "cell_type": "markdown",
   "metadata": {
    "id": "ox7d4ymeaUhY"
   },
   "source": [
    "### Process the Training Data"
   ]
  },
  {
   "cell_type": "code",
   "execution_count": 4,
   "metadata": {
    "colab": {
     "base_uri": "https://localhost:8080/",
     "height": 235
    },
    "id": "rn4xxeBraC0r",
    "outputId": "71dab59f-13c7-4c5b-e713-7d9c0b7f3544"
   },
   "outputs": [
    {
     "data": {
      "text/html": [
       "<div>\n",
       "<style scoped>\n",
       "    .dataframe tbody tr th:only-of-type {\n",
       "        vertical-align: middle;\n",
       "    }\n",
       "\n",
       "    .dataframe tbody tr th {\n",
       "        vertical-align: top;\n",
       "    }\n",
       "\n",
       "    .dataframe thead th {\n",
       "        text-align: right;\n",
       "    }\n",
       "</style>\n",
       "<table border=\"1\" class=\"dataframe\">\n",
       "  <thead>\n",
       "    <tr style=\"text-align: right;\">\n",
       "      <th></th>\n",
       "      <th>opacity</th>\n",
       "      <th>diabetic retinopathy</th>\n",
       "      <th>glaucoma</th>\n",
       "      <th>macular edema</th>\n",
       "      <th>macular degeneration</th>\n",
       "      <th>retinal vascular occlusion</th>\n",
       "      <th>normal</th>\n",
       "    </tr>\n",
       "    <tr>\n",
       "      <th>filename</th>\n",
       "      <th></th>\n",
       "      <th></th>\n",
       "      <th></th>\n",
       "      <th></th>\n",
       "      <th></th>\n",
       "      <th></th>\n",
       "      <th></th>\n",
       "    </tr>\n",
       "  </thead>\n",
       "  <tbody>\n",
       "    <tr>\n",
       "      <th>c24a1b14d253.jpg</th>\n",
       "      <td>0</td>\n",
       "      <td>0</td>\n",
       "      <td>0</td>\n",
       "      <td>0</td>\n",
       "      <td>0</td>\n",
       "      <td>1</td>\n",
       "      <td>0</td>\n",
       "    </tr>\n",
       "    <tr>\n",
       "      <th>9ee905a41651.jpg</th>\n",
       "      <td>0</td>\n",
       "      <td>0</td>\n",
       "      <td>0</td>\n",
       "      <td>0</td>\n",
       "      <td>0</td>\n",
       "      <td>1</td>\n",
       "      <td>0</td>\n",
       "    </tr>\n",
       "    <tr>\n",
       "      <th>3f58d128caf6.jpg</th>\n",
       "      <td>0</td>\n",
       "      <td>0</td>\n",
       "      <td>1</td>\n",
       "      <td>0</td>\n",
       "      <td>0</td>\n",
       "      <td>0</td>\n",
       "      <td>0</td>\n",
       "    </tr>\n",
       "    <tr>\n",
       "      <th>4ce6599e7b20.jpg</th>\n",
       "      <td>1</td>\n",
       "      <td>0</td>\n",
       "      <td>0</td>\n",
       "      <td>0</td>\n",
       "      <td>1</td>\n",
       "      <td>0</td>\n",
       "      <td>0</td>\n",
       "    </tr>\n",
       "    <tr>\n",
       "      <th>0def470360e4.jpg</th>\n",
       "      <td>1</td>\n",
       "      <td>0</td>\n",
       "      <td>0</td>\n",
       "      <td>0</td>\n",
       "      <td>1</td>\n",
       "      <td>0</td>\n",
       "      <td>0</td>\n",
       "    </tr>\n",
       "  </tbody>\n",
       "</table>\n",
       "</div>"
      ],
      "text/plain": [
       "                  opacity  diabetic retinopathy  glaucoma  macular edema  \\\n",
       "filename                                                                   \n",
       "c24a1b14d253.jpg        0                     0         0              0   \n",
       "9ee905a41651.jpg        0                     0         0              0   \n",
       "3f58d128caf6.jpg        0                     0         1              0   \n",
       "4ce6599e7b20.jpg        1                     0         0              0   \n",
       "0def470360e4.jpg        1                     0         0              0   \n",
       "\n",
       "                  macular degeneration  retinal vascular occlusion  normal  \n",
       "filename                                                                    \n",
       "c24a1b14d253.jpg                     0                           1       0  \n",
       "9ee905a41651.jpg                     0                           1       0  \n",
       "3f58d128caf6.jpg                     0                           0       0  \n",
       "4ce6599e7b20.jpg                     1                           0       0  \n",
       "0def470360e4.jpg                     1                           0       0  "
      ]
     },
     "execution_count": 4,
     "metadata": {},
     "output_type": "execute_result"
    }
   ],
   "source": [
    "# read the training labels\n",
    "train_labels = pd.read_csv(os.path.join(data_path, 'train/train.csv'))\n",
    "train_labels.set_index('filename', inplace=True)\n",
    "train_labels.head()"
   ]
  },
  {
   "cell_type": "code",
   "execution_count": 5,
   "metadata": {
    "colab": {
     "base_uri": "https://localhost:8080/"
    },
    "id": "61CUsMgi_K9d",
    "outputId": "1b7f088c-c93d-4d2e-b365-439d2e67eade"
   },
   "outputs": [
    {
     "name": "stdout",
     "output_type": "stream",
     "text": [
      "diabetic retinopathy\n",
      "0    2680\n",
      "1     755\n",
      "Name: diabetic retinopathy, dtype: int64 \n",
      "\n",
      "glaucoma\n",
      "0    2838\n",
      "1     597\n",
      "Name: glaucoma, dtype: int64 \n",
      "\n",
      "macular edema\n",
      "0    2919\n",
      "1     516\n",
      "Name: macular edema, dtype: int64 \n",
      "\n",
      "macular degeneration\n",
      "0    2861\n",
      "1     574\n",
      "Name: macular degeneration, dtype: int64 \n",
      "\n",
      "retinal vascular occlusion\n",
      "0    2995\n",
      "1     440\n",
      "Name: retinal vascular occlusion, dtype: int64 \n",
      "\n",
      "normal\n",
      "0    2910\n",
      "1     525\n",
      "Name: normal, dtype: int64 \n",
      "\n"
     ]
    }
   ],
   "source": [
    "# check distribution of different disese and also overlap between different disease\n",
    "for label in train_labels.columns[1:]:\n",
    "    print(label)\n",
    "    print(train_labels[label].value_counts(), '\\n')"
   ]
  },
  {
   "cell_type": "markdown",
   "metadata": {
    "id": "6PljE5vNbXwd"
   },
   "source": [
    "### Create Data Pipelines"
   ]
  },
  {
   "cell_type": "code",
   "execution_count": 9,
   "metadata": {
    "id": "nLQowV-Vs-Mv"
   },
   "outputs": [],
   "source": [
    "# separating files into 4 categories\n",
    "\n",
    "## create separate dataset from existing training file\n",
    "original_folder = os.path.join(data_path, 'train/train')\n",
    "new_folder = os.path.join(data_path, 'separated_pics_train')\n",
    "\n",
    "# index = 1\n",
    "dbr_folder = os.path.join(new_folder, 'diabetic retinopathy')\n",
    "\n",
    "# index = 2\n",
    "glc_folder = os.path.join(new_folder, 'glaucoma')\n",
    "\n",
    "# index else\n",
    "other_folder = os.path.join(new_folder, 'other')\n",
    "\n",
    "# index = 6\n",
    "normal_folder = os.path.join(new_folder, 'normal')\n",
    "\n",
    "for i in range(len(train_labels)):\n",
    "    max_val = train_labels.iloc[i].max()\n",
    "    indices = [i for i, j in enumerate(train_labels.iloc[i]) if j == max_val]\n",
    "\n",
    "    '''commands to move files to designated folders'''\n",
    "    if 1 in indices:\n",
    "        shutil.copy(os.path.join(original_folder, train_labels.index[i]), \n",
    "                    os.path.join(dbr_folder, train_labels.index[i]))\n",
    "    \n",
    "    elif 2 in indices:\n",
    "        shutil.copy(os.path.join(original_folder, train_labels.index[i]), \n",
    "                    os.path.join(glc_folder, train_labels.index[i]))\n",
    "        \n",
    "    elif 6 in indices:\n",
    "        shutil.copy(os.path.join(original_folder, train_labels.index[i]), \n",
    "                    os.path.join(normal_folder, train_labels.index[i]))\n",
    "        \n",
    "    else:\n",
    "        shutil.copy(os.path.join(original_folder, train_labels.index[i]), \n",
    "                    os.path.join(other_folder, train_labels.index[i]))"
   ]
  },
  {
   "cell_type": "code",
   "execution_count": 217,
   "metadata": {
    "id": "c2FOS_XA3Kgb"
   },
   "outputs": [],
   "source": [
    "# define image size and channels\n",
    "IMAGE_SIZE = 224\n",
    "CHANNELS = 3\n",
    "\n",
    "BATCH_SIZE = 64"
   ]
  },
  {
   "cell_type": "code",
   "execution_count": 218,
   "metadata": {
    "id": "3WoCkfqj6pNU"
   },
   "outputs": [],
   "source": [
    "# training image dir\n",
    "train_img_dir = os.path.join(data_path, 'separated_pics_train')\n",
    "\n",
    "# testing image dir\n",
    "test_img_dir = 'Data/test'"
   ]
  },
  {
   "cell_type": "code",
   "execution_count": 219,
   "metadata": {},
   "outputs": [],
   "source": [
    "# preprocessing function to highlight the green channel\n",
    "def green_channel(img):\n",
    "    img_out = img[:,:,1]\n",
    "    return img_out"
   ]
  },
  {
   "cell_type": "code",
   "execution_count": 304,
   "metadata": {},
   "outputs": [],
   "source": [
    "# increasing contrast\n",
    "def contrast(img_np):\n",
    "    return(tf.image.adjust_contrast(img_np, 4))"
   ]
  },
  {
   "cell_type": "code",
   "execution_count": 305,
   "metadata": {
    "id": "ivs-oNfSwdnW"
   },
   "outputs": [],
   "source": [
    "train_datagen = ImageDataGenerator(\n",
    "    rotation_range=10.,\n",
    "    width_shift_range=0.2,\n",
    "    height_shift_range=0.2,\n",
    "    channel_shift_range=0.1,\n",
    "    horizontal_flip=True,\n",
    "    vertical_flip=True,\n",
    "    brightness_range=(-0.5,0.5),\n",
    "    fill_mode='constant',\n",
    "    data_format=\"channels_last\",\n",
    "    #preprocessing_function=tf.keras.applications.vgg19.preprocess_input,\n",
    "    preprocessing_function=contrast,\n",
    "    validation_split = 0.3,\n",
    "    rescale=1.0/255.0\n",
    ")"
   ]
  },
  {
   "cell_type": "code",
   "execution_count": 306,
   "metadata": {
    "id": "nsUJYt0mytWI"
   },
   "outputs": [
    {
     "name": "stdout",
     "output_type": "stream",
     "text": [
      "Found 1827 images belonging to 4 classes.\n"
     ]
    }
   ],
   "source": [
    "# create training data\n",
    "train_gen = train_datagen.flow_from_directory(\n",
    "    directory=train_img_dir,\n",
    "    shuffle=True, \n",
    "    target_size=(IMAGE_SIZE,IMAGE_SIZE),\n",
    "    batch_size=BATCH_SIZE,\n",
    "    subset='training'\n",
    ")"
   ]
  },
  {
   "cell_type": "code",
   "execution_count": 307,
   "metadata": {},
   "outputs": [
    {
     "name": "stdout",
     "output_type": "stream",
     "text": [
      "Found 780 images belonging to 4 classes.\n"
     ]
    }
   ],
   "source": [
    "# create training data\n",
    "val_gen = train_datagen.flow_from_directory(\n",
    "    directory=train_img_dir,\n",
    "    shuffle=True, \n",
    "    target_size=(IMAGE_SIZE,IMAGE_SIZE),\n",
    "    batch_size=BATCH_SIZE,\n",
    "    subset='validation'\n",
    ")"
   ]
  },
  {
   "cell_type": "markdown",
   "metadata": {
    "id": "oR8iRNCIzpvy"
   },
   "source": [
    "### Creating callback for saving models and stopping training if certain accuracy is reached."
   ]
  },
  {
   "cell_type": "code",
   "execution_count": 16,
   "metadata": {
    "id": "HA_7g6MF_K9j"
   },
   "outputs": [],
   "source": [
    "# define callback to stop training if a certain accuracy is achieved\n",
    "class mycallback(tf.keras.callbacks.Callback):\n",
    "    def on_epoch_end(seld, epoch, logs={}):\n",
    "        if (logs.get('accuracy')>0.95):\n",
    "            print('\\nReached 95% accuracy so cancelling training')\n",
    "            self.model.stop_training = True\n",
    "    \n",
    "stop_train = mycallback()"
   ]
  },
  {
   "cell_type": "code",
   "execution_count": 271,
   "metadata": {
    "id": "64VmMELl_K9j"
   },
   "outputs": [],
   "source": [
    "# callback for saving checkpoints during training\n",
    "accuracy_callback = tf.keras.callbacks.ModelCheckpoint(\n",
    "    'models/acc_ckpts',\n",
    "    monitor='loss',\n",
    "    verbose=0,\n",
    "    save_best_only=True,\n",
    "    save_weights_only=False,\n",
    "    mode='auto',\n",
    "    save_freq='epoch',\n",
    ")"
   ]
  },
  {
   "cell_type": "code",
   "execution_count": 164,
   "metadata": {},
   "outputs": [],
   "source": [
    "# function for lr decay\n",
    "def scheduler(epoch, lr):\n",
    "    if epoch % 20 != 0:\n",
    "        return lr\n",
    "    else:\n",
    "        return lr / 10"
   ]
  },
  {
   "cell_type": "code",
   "execution_count": 166,
   "metadata": {},
   "outputs": [],
   "source": [
    "# learning rate decay\n",
    "lr_decay = tf.keras.callbacks.LearningRateScheduler(scheduler)"
   ]
  },
  {
   "cell_type": "markdown",
   "metadata": {
    "id": "Ev1qOfkS0HYb"
   },
   "source": [
    "## Download application from the tf.keras.application"
   ]
  },
  {
   "cell_type": "code",
   "execution_count": 308,
   "metadata": {
    "id": "3y2sgtyW0DCn"
   },
   "outputs": [],
   "source": [
    "# importing ResNet50 from tensorflow applications\n",
    "base_model = tf.keras.applications.ResNet50(\n",
    "    input_shape=(IMAGE_SIZE, IMAGE_SIZE, 3),\n",
    "    include_top=False,\n",
    "    weights='imagenet')"
   ]
  },
  {
   "cell_type": "code",
   "execution_count": 309,
   "metadata": {
    "id": "_gcyfhHO01y0"
   },
   "outputs": [],
   "source": [
    "base_model.trainable = True\n",
    "#base_model.summary()"
   ]
  },
  {
   "cell_type": "code",
   "execution_count": 310,
   "metadata": {
    "id": "utefTjwS1dQf"
   },
   "outputs": [],
   "source": [
    "# select a layer to start optimizing from, \n",
    "# here we will train only the later half of the model\n",
    "train_layer = base_model.get_layer('conv4_block4_1_conv')\n",
    "\n",
    "# get train_layer index\n",
    "layer_index = base_model.layers.index(train_layer)"
   ]
  },
  {
   "cell_type": "code",
   "execution_count": 311,
   "metadata": {
    "id": "kI5lDdNv2-nu"
   },
   "outputs": [],
   "source": [
    "# make layers before the training layer non trainable\n",
    "for layer in base_model.layers[:layer_index]:\n",
    "    layer.trainable = False"
   ]
  },
  {
   "cell_type": "markdown",
   "metadata": {},
   "source": [
    "Skipping the final activation layer and just getting the logits as these will be used for the final part of the assignment"
   ]
  },
  {
   "cell_type": "code",
   "execution_count": 312,
   "metadata": {
    "id": "EnLvN2os25WE"
   },
   "outputs": [
    {
     "name": "stdout",
     "output_type": "stream",
     "text": [
      "Model: \"sequential_23\"\n",
      "_________________________________________________________________\n",
      "Layer (type)                 Output Shape              Param #   \n",
      "=================================================================\n",
      "resnet50 (Functional)        (None, 7, 7, 2048)        23587712  \n",
      "_________________________________________________________________\n",
      "global_average_pooling2d_15  (None, 2048)              0         \n",
      "_________________________________________________________________\n",
      "dense_44 (Dense)             (None, 512)               1049088   \n",
      "_________________________________________________________________\n",
      "dropout_19 (Dropout)         (None, 512)               0         \n",
      "_________________________________________________________________\n",
      "dense_45 (Dense)             (None, 4)                 2052      \n",
      "=================================================================\n",
      "Total params: 24,638,852\n",
      "Trainable params: 19,383,300\n",
      "Non-trainable params: 5,255,552\n",
      "_________________________________________________________________\n"
     ]
    }
   ],
   "source": [
    "# define model\n",
    "model = tf.keras.Sequential([\n",
    "    base_model,\n",
    "    tf.keras.layers.GlobalAveragePooling2D(),\n",
    "    tf.keras.layers.Dense(512, activation='relu'),\n",
    "    tf.keras.layers.Dropout(0.3),\n",
    "    tf.keras.layers.Dense(4)\n",
    "])\n",
    "\n",
    "model.summary()"
   ]
  },
  {
   "cell_type": "code",
   "execution_count": 313,
   "metadata": {},
   "outputs": [],
   "source": [
    "# compile model\n",
    "model.compile(optimizer=tf.keras.optimizers.Adam(lr=0.001),\n",
    "              loss='categorical_crossentropy',\n",
    "              metrics='accuracy')"
   ]
  },
  {
   "cell_type": "code",
   "execution_count": 314,
   "metadata": {},
   "outputs": [
    {
     "name": "stdout",
     "output_type": "stream",
     "text": [
      "Epoch 1/100\n",
      "28/28 [==============================] - 53s 2s/step - loss: 9.4444 - accuracy: 0.2150 - val_loss: 7.8282 - val_accuracy: 0.2839\n",
      "Epoch 2/100\n",
      "28/28 [==============================] - 51s 2s/step - loss: 8.2100 - accuracy: 0.2791 - val_loss: 8.2060 - val_accuracy: 0.2878\n",
      "Epoch 3/100\n",
      "28/28 [==============================] - 50s 2s/step - loss: 8.1642 - accuracy: 0.2864 - val_loss: 8.3529 - val_accuracy: 0.2839\n",
      "Epoch 4/100\n",
      "28/28 [==============================] - 49s 2s/step - loss: 8.2373 - accuracy: 0.2887 - val_loss: 8.2479 - val_accuracy: 0.2839\n",
      "Epoch 5/100\n",
      "28/28 [==============================] - 47s 2s/step - loss: 8.1186 - accuracy: 0.2864 - val_loss: 8.2060 - val_accuracy: 0.2878\n",
      "Epoch 6/100\n",
      "28/28 [==============================] - 48s 2s/step - loss: 7.9996 - accuracy: 0.2859 - val_loss: 8.2479 - val_accuracy: 0.2878\n",
      "Epoch 7/100\n",
      "28/28 [==============================] - 49s 2s/step - loss: 8.2739 - accuracy: 0.2853 - val_loss: 8.2479 - val_accuracy: 0.2865\n",
      "Epoch 8/100\n",
      "28/28 [==============================] - 49s 2s/step - loss: 7.9448 - accuracy: 0.2842 - val_loss: 8.1850 - val_accuracy: 0.2891\n",
      "Epoch 9/100\n",
      "28/28 [==============================] - 46s 2s/step - loss: 8.3836 - accuracy: 0.2864 - val_loss: 8.2479 - val_accuracy: 0.2865\n",
      "Epoch 10/100\n",
      "28/28 [==============================] - 45s 2s/step - loss: 8.1916 - accuracy: 0.2898 - val_loss: 8.1850 - val_accuracy: 0.2904\n",
      "Epoch 11/100\n",
      "28/28 [==============================] - 45s 2s/step - loss: 8.4202 - accuracy: 0.2893 - val_loss: 8.2060 - val_accuracy: 0.2878\n",
      "Epoch 12/100\n",
      "28/28 [==============================] - 44s 2s/step - loss: 8.1368 - accuracy: 0.2847 - val_loss: 8.2899 - val_accuracy: 0.2826\n",
      "Epoch 13/100\n",
      "28/28 [==============================] - 45s 2s/step - loss: 8.1093 - accuracy: 0.2910 - val_loss: 8.2479 - val_accuracy: 0.2865\n",
      "Epoch 14/100\n",
      "28/28 [==============================] - 45s 2s/step - loss: 8.3196 - accuracy: 0.2864 - val_loss: 8.2479 - val_accuracy: 0.2839\n",
      "Epoch 15/100\n",
      "28/28 [==============================] - 45s 2s/step - loss: 8.1916 - accuracy: 0.2898 - val_loss: 8.2689 - val_accuracy: 0.2852\n",
      "Epoch 16/100\n",
      "28/28 [==============================] - 44s 2s/step - loss: 8.2008 - accuracy: 0.2796 - val_loss: 8.2060 - val_accuracy: 0.2878\n",
      "Epoch 17/100\n",
      "28/28 [==============================] - 45s 2s/step - loss: 7.9448 - accuracy: 0.2898 - val_loss: 8.2479 - val_accuracy: 0.2852\n",
      "Epoch 18/100\n",
      "28/28 [==============================] - 48s 2s/step - loss: 8.0636 - accuracy: 0.2813 - val_loss: 8.2269 - val_accuracy: 0.2891\n",
      "Epoch 19/100\n",
      "28/28 [==============================] - 47s 2s/step - loss: 7.9905 - accuracy: 0.2859 - val_loss: 8.2269 - val_accuracy: 0.2891\n",
      "Epoch 20/100\n",
      "28/28 [==============================] - 45s 2s/step - loss: 8.1916 - accuracy: 0.2881 - val_loss: 8.2060 - val_accuracy: 0.2891\n",
      "Epoch 21/100\n",
      "28/28 [==============================] - 44s 2s/step - loss: 8.2739 - accuracy: 0.2876 - val_loss: 8.2479 - val_accuracy: 0.2904\n",
      "Epoch 22/100\n",
      "28/28 [==============================] - 45s 2s/step - loss: 8.0728 - accuracy: 0.2864 - val_loss: 8.2689 - val_accuracy: 0.2852\n",
      "Epoch 23/100\n",
      "28/28 [==============================] - 45s 2s/step - loss: 8.4750 - accuracy: 0.2870 - val_loss: 8.2689 - val_accuracy: 0.2878\n",
      "Epoch 24/100\n",
      "28/28 [==============================] - 48s 2s/step - loss: 8.1002 - accuracy: 0.2825 - val_loss: 8.2479 - val_accuracy: 0.2865\n",
      "Epoch 25/100\n",
      "28/28 [==============================] - 47s 2s/step - loss: 8.2465 - accuracy: 0.2802 - val_loss: 8.2689 - val_accuracy: 0.2891\n",
      "Epoch 26/100\n",
      "28/28 [==============================] - 50s 2s/step - loss: 7.7985 - accuracy: 0.2847 - val_loss: 8.2060 - val_accuracy: 0.2891\n",
      "Epoch 27/100\n",
      "28/28 [==============================] - 50s 2s/step - loss: 8.0910 - accuracy: 0.2791 - val_loss: 8.2479 - val_accuracy: 0.2865\n",
      "Epoch 28/100\n",
      "28/28 [==============================] - 51s 2s/step - loss: 7.9539 - accuracy: 0.2836 - val_loss: 8.2269 - val_accuracy: 0.2865\n",
      "Epoch 29/100\n",
      "28/28 [==============================] - 51s 2s/step - loss: 7.9996 - accuracy: 0.2870 - val_loss: 8.2689 - val_accuracy: 0.2878\n",
      "Epoch 30/100\n",
      "28/28 [==============================] - 51s 2s/step - loss: 8.0088 - accuracy: 0.2870 - val_loss: 8.2479 - val_accuracy: 0.2852\n",
      "Epoch 31/100\n",
      "28/28 [==============================] - 50s 2s/step - loss: 7.7802 - accuracy: 0.2870 - val_loss: 8.2689 - val_accuracy: 0.2891\n",
      "Epoch 32/100\n",
      "28/28 [==============================] - 49s 2s/step - loss: 8.1276 - accuracy: 0.2830 - val_loss: 8.2269 - val_accuracy: 0.2878\n",
      "Epoch 33/100\n",
      "28/28 [==============================] - 50s 2s/step - loss: 8.0728 - accuracy: 0.2830 - val_loss: 8.1850 - val_accuracy: 0.2891\n",
      "Epoch 34/100\n",
      "28/28 [==============================] - 50s 2s/step - loss: 8.2190 - accuracy: 0.2836 - val_loss: 8.2689 - val_accuracy: 0.2865\n",
      "Epoch 35/100\n",
      "28/28 [==============================] - 48s 2s/step - loss: 7.9996 - accuracy: 0.2881 - val_loss: 8.2269 - val_accuracy: 0.2878\n",
      "Epoch 36/100\n",
      "28/28 [==============================] - 50s 2s/step - loss: 8.3196 - accuracy: 0.2796 - val_loss: 8.2479 - val_accuracy: 0.2852\n",
      "Epoch 37/100\n",
      "28/28 [==============================] - 49s 2s/step - loss: 8.2373 - accuracy: 0.2819 - val_loss: 8.1640 - val_accuracy: 0.2891\n",
      "Epoch 38/100\n",
      "28/28 [==============================] - 49s 2s/step - loss: 8.2648 - accuracy: 0.2819 - val_loss: 8.2689 - val_accuracy: 0.2852\n",
      "Epoch 39/100\n",
      "28/28 [==============================] - 48s 2s/step - loss: 8.2830 - accuracy: 0.2847 - val_loss: 8.2689 - val_accuracy: 0.2878\n",
      "Epoch 40/100\n",
      "28/28 [==============================] - 46s 2s/step - loss: 8.0819 - accuracy: 0.2881 - val_loss: 8.2689 - val_accuracy: 0.2878\n",
      "Epoch 41/100\n",
      "28/28 [==============================] - 47s 2s/step - loss: 8.1130 - accuracy: 0.2812 - val_loss: 8.2689 - val_accuracy: 0.2839\n",
      "Epoch 42/100\n",
      "28/28 [==============================] - 48s 2s/step - loss: 7.9996 - accuracy: 0.2819 - val_loss: 8.2269 - val_accuracy: 0.2878\n",
      "Epoch 43/100\n",
      "28/28 [==============================] - 48s 2s/step - loss: 8.1093 - accuracy: 0.2853 - val_loss: 8.2899 - val_accuracy: 0.2865\n",
      "Epoch 44/100\n",
      "28/28 [==============================] - 49s 2s/step - loss: 8.2556 - accuracy: 0.2791 - val_loss: 8.2269 - val_accuracy: 0.2865\n",
      "Epoch 45/100\n",
      "28/28 [==============================] - 51s 2s/step - loss: 8.2282 - accuracy: 0.2853 - val_loss: 8.2689 - val_accuracy: 0.2865\n",
      "Epoch 46/100\n",
      "28/28 [==============================] - 49s 2s/step - loss: 8.2922 - accuracy: 0.2830 - val_loss: 8.2479 - val_accuracy: 0.2839\n",
      "Epoch 47/100\n",
      "28/28 [==============================] - 50s 2s/step - loss: 7.9813 - accuracy: 0.2836 - val_loss: 8.2689 - val_accuracy: 0.2917\n",
      "Epoch 48/100\n",
      "28/28 [==============================] - 49s 2s/step - loss: 8.3562 - accuracy: 0.2802 - val_loss: 8.2479 - val_accuracy: 0.2878\n",
      "Epoch 49/100\n",
      "28/28 [==============================] - 48s 2s/step - loss: 8.3470 - accuracy: 0.2876 - val_loss: 8.2689 - val_accuracy: 0.2839\n",
      "Epoch 50/100\n",
      "28/28 [==============================] - 48s 2s/step - loss: 8.2830 - accuracy: 0.2847 - val_loss: 8.2479 - val_accuracy: 0.2852\n",
      "Epoch 51/100\n",
      "28/28 [==============================] - 47s 2s/step - loss: 8.3927 - accuracy: 0.2904 - val_loss: 8.2060 - val_accuracy: 0.2904\n",
      "Epoch 52/100\n",
      "28/28 [==============================] - 46s 2s/step - loss: 8.4659 - accuracy: 0.2842 - val_loss: 8.2479 - val_accuracy: 0.2865\n",
      "Epoch 53/100\n",
      "28/28 [==============================] - 46s 2s/step - loss: 8.1916 - accuracy: 0.2836 - val_loss: 8.3109 - val_accuracy: 0.2826\n",
      "Epoch 54/100\n",
      "28/28 [==============================] - 48s 2s/step - loss: 8.4750 - accuracy: 0.2853 - val_loss: 8.2269 - val_accuracy: 0.2852\n",
      "Epoch 55/100\n",
      "28/28 [==============================] - 48s 2s/step - loss: 8.0819 - accuracy: 0.2842 - val_loss: 8.2899 - val_accuracy: 0.2865\n",
      "Epoch 56/100\n",
      "28/28 [==============================] - 48s 2s/step - loss: 8.2190 - accuracy: 0.2785 - val_loss: 8.2269 - val_accuracy: 0.2865\n",
      "Epoch 57/100\n",
      "28/28 [==============================] - 47s 2s/step - loss: 8.3562 - accuracy: 0.2898 - val_loss: 8.2269 - val_accuracy: 0.2878\n",
      "Epoch 58/100\n",
      "28/28 [==============================] - 47s 2s/step - loss: 8.1642 - accuracy: 0.2847 - val_loss: 8.2689 - val_accuracy: 0.2865\n",
      "Epoch 59/100\n",
      "28/28 [==============================] - 47s 2s/step - loss: 8.4933 - accuracy: 0.2791 - val_loss: 8.2479 - val_accuracy: 0.2865\n",
      "Epoch 60/100\n",
      "28/28 [==============================] - 47s 2s/step - loss: 8.3287 - accuracy: 0.2813 - val_loss: 8.2060 - val_accuracy: 0.2878\n",
      "Epoch 61/100\n",
      "28/28 [==============================] - 48s 2s/step - loss: 7.9905 - accuracy: 0.2898 - val_loss: 8.2060 - val_accuracy: 0.2917\n",
      "Epoch 62/100\n",
      "28/28 [==============================] - 48s 2s/step - loss: 8.3105 - accuracy: 0.2796 - val_loss: 8.2269 - val_accuracy: 0.2878\n",
      "Epoch 63/100\n",
      "28/28 [==============================] - 49s 2s/step - loss: 7.8442 - accuracy: 0.2915 - val_loss: 8.2689 - val_accuracy: 0.2852\n",
      "Epoch 64/100\n",
      "28/28 [==============================] - 50s 2s/step - loss: 8.2830 - accuracy: 0.2830 - val_loss: 8.2269 - val_accuracy: 0.2917\n",
      "Epoch 65/100\n",
      "28/28 [==============================] - 50s 2s/step - loss: 8.0728 - accuracy: 0.2847 - val_loss: 8.2479 - val_accuracy: 0.2878\n",
      "Epoch 66/100\n",
      "28/28 [==============================] - 50s 2s/step - loss: 8.1276 - accuracy: 0.2859 - val_loss: 8.2479 - val_accuracy: 0.2878\n",
      "Epoch 67/100\n",
      "28/28 [==============================] - 50s 2s/step - loss: 8.3653 - accuracy: 0.2859 - val_loss: 8.2899 - val_accuracy: 0.2839\n",
      "Epoch 68/100\n",
      "28/28 [==============================] - 49s 2s/step - loss: 8.2373 - accuracy: 0.2870 - val_loss: 8.2269 - val_accuracy: 0.2891\n",
      "Epoch 69/100\n",
      "28/28 [==============================] - 47s 2s/step - loss: 8.2648 - accuracy: 0.2808 - val_loss: 8.2689 - val_accuracy: 0.2891\n",
      "Epoch 70/100\n",
      "28/28 [==============================] - 49s 2s/step - loss: 8.0321 - accuracy: 0.2785 - val_loss: 8.2479 - val_accuracy: 0.2865\n",
      "Epoch 72/100\n",
      "28/28 [==============================] - 47s 2s/step - loss: 8.1093 - accuracy: 0.2864 - val_loss: 8.2479 - val_accuracy: 0.2878\n",
      "Epoch 73/100\n",
      "28/28 [==============================] - 47s 2s/step - loss: 8.1550 - accuracy: 0.2864 - val_loss: 8.2479 - val_accuracy: 0.2852\n",
      "Epoch 74/100\n",
      "28/28 [==============================] - 47s 2s/step - loss: 8.1916 - accuracy: 0.2830 - val_loss: 8.2269 - val_accuracy: 0.2852\n",
      "Epoch 75/100\n",
      "28/28 [==============================] - 47s 2s/step - loss: 8.1916 - accuracy: 0.2876 - val_loss: 8.2899 - val_accuracy: 0.2826\n",
      "Epoch 76/100\n",
      "28/28 [==============================] - 46s 2s/step - loss: 8.4476 - accuracy: 0.2842 - val_loss: 8.2479 - val_accuracy: 0.2878\n",
      "Epoch 77/100\n",
      "28/28 [==============================] - 48s 2s/step - loss: 8.1916 - accuracy: 0.2813 - val_loss: 8.2479 - val_accuracy: 0.2878\n",
      "Epoch 78/100\n",
      "28/28 [==============================] - 48s 2s/step - loss: 8.3562 - accuracy: 0.2796 - val_loss: 8.2479 - val_accuracy: 0.2865\n",
      "Epoch 79/100\n",
      "28/28 [==============================] - 50s 2s/step - loss: 8.1642 - accuracy: 0.2842 - val_loss: 8.2269 - val_accuracy: 0.2891\n",
      "Epoch 80/100\n",
      "28/28 [==============================] - 51s 2s/step - loss: 8.1825 - accuracy: 0.2808 - val_loss: 8.2899 - val_accuracy: 0.2839\n",
      "Epoch 81/100\n",
      "28/28 [==============================] - 51s 2s/step - loss: 7.9996 - accuracy: 0.2859 - val_loss: 8.2479 - val_accuracy: 0.2891\n",
      "Epoch 82/100\n",
      "28/28 [==============================] - 50s 2s/step - loss: 8.1459 - accuracy: 0.2791 - val_loss: 8.2269 - val_accuracy: 0.2878\n",
      "Epoch 83/100\n",
      "28/28 [==============================] - 50s 2s/step - loss: 8.2008 - accuracy: 0.2836 - val_loss: 8.2899 - val_accuracy: 0.2865\n",
      "Epoch 84/100\n",
      "28/28 [==============================] - 50s 2s/step - loss: 8.4659 - accuracy: 0.2819 - val_loss: 8.2479 - val_accuracy: 0.2878\n",
      "Epoch 85/100\n",
      "28/28 [==============================] - 49s 2s/step - loss: 8.1368 - accuracy: 0.2808 - val_loss: 8.2899 - val_accuracy: 0.2865\n",
      "Epoch 86/100\n",
      "28/28 [==============================] - 48s 2s/step - loss: 8.1550 - accuracy: 0.2876 - val_loss: 8.2899 - val_accuracy: 0.2865\n",
      "Epoch 87/100\n",
      "28/28 [==============================] - 47s 2s/step - loss: 8.1916 - accuracy: 0.2825 - val_loss: 8.2689 - val_accuracy: 0.2865\n",
      "Epoch 88/100\n",
      "28/28 [==============================] - 47s 2s/step - loss: 8.4019 - accuracy: 0.2915 - val_loss: 8.2060 - val_accuracy: 0.2865\n",
      "Epoch 89/100\n",
      "28/28 [==============================] - 47s 2s/step - loss: 7.9905 - accuracy: 0.2887 - val_loss: 8.2269 - val_accuracy: 0.2878\n",
      "Epoch 90/100\n",
      "28/28 [==============================] - 48s 2s/step - loss: 8.1733 - accuracy: 0.2859 - val_loss: 8.2269 - val_accuracy: 0.2878\n",
      "Epoch 91/100\n",
      "28/28 [==============================] - 50s 2s/step - loss: 8.2008 - accuracy: 0.2847 - val_loss: 8.2479 - val_accuracy: 0.2904\n",
      "Epoch 92/100\n",
      "28/28 [==============================] - 51s 2s/step - loss: 8.1642 - accuracy: 0.2830 - val_loss: 8.2269 - val_accuracy: 0.2878\n",
      "Epoch 93/100\n",
      "28/28 [==============================] - 49s 2s/step - loss: 8.2373 - accuracy: 0.2842 - val_loss: 8.2269 - val_accuracy: 0.2891\n",
      "Epoch 94/100\n",
      "28/28 [==============================] - 47s 2s/step - loss: 8.0545 - accuracy: 0.2825 - val_loss: 8.1850 - val_accuracy: 0.2891\n",
      "Epoch 95/100\n",
      "28/28 [==============================] - 47s 2s/step - loss: 7.9996 - accuracy: 0.2893 - val_loss: 8.2479 - val_accuracy: 0.2839\n",
      "Epoch 96/100\n",
      "28/28 [==============================] - 48s 2s/step - loss: 8.1459 - accuracy: 0.2876 - val_loss: 8.2689 - val_accuracy: 0.2891\n",
      "Epoch 97/100\n",
      "28/28 [==============================] - 49s 2s/step - loss: 8.2190 - accuracy: 0.2887 - val_loss: 8.2269 - val_accuracy: 0.2865\n",
      "Epoch 98/100\n",
      "28/28 [==============================] - 49s 2s/step - loss: 8.2465 - accuracy: 0.2813 - val_loss: 8.2269 - val_accuracy: 0.2878\n",
      "Epoch 99/100\n",
      "28/28 [==============================] - 49s 2s/step - loss: 8.0179 - accuracy: 0.2859 - val_loss: 8.2479 - val_accuracy: 0.2852\n",
      "Epoch 100/100\n",
      "28/28 [==============================] - 49s 2s/step - loss: 8.1459 - accuracy: 0.2796 - val_loss: 8.2689 - val_accuracy: 0.2839\n"
     ]
    }
   ],
   "source": [
    "# train model\n",
    "history = model.fit(train_gen,\n",
    "                    steps_per_epoch=train_gen.samples // BATCH_SIZE,\n",
    "                    epochs= 100,\n",
    "                    verbose=1,\n",
    "                    validation_data=val_gen,\n",
    "                    validation_steps=val_gen.samples // BATCH_SIZE,\n",
    "                    callbacks=[accuracy_callback])\n",
    "                    #callbacks=[stop_train, accuracy_callback, lr_decay])"
   ]
  },
  {
   "cell_type": "code",
   "execution_count": 302,
   "metadata": {},
   "outputs": [],
   "source": [
    "model.save('models/resnet50_v2.h5')\n",
    "model.save_weights('models/resnet50_weights_v2')"
   ]
  },
  {
   "cell_type": "code",
   "execution_count": 315,
   "metadata": {},
   "outputs": [
    {
     "data": {
      "image/png": "[encoded data removed]",
      "text/plain": [
       "<Figure size 432x288 with 1 Axes>"
      ]
     },
     "metadata": {
      "needs_background": "light"
     },
     "output_type": "display_data"
    }
   ],
   "source": [
    "# plottig history\n",
    "import matplotlib.pyplot as plt\n",
    "\n",
    "plt.plot(history.history['accuracy'], label='accuracy')\n",
    "plt.plot(history.history['val_accuracy'], label = 'val_accuracy')\n",
    "plt.xlabel('Epoch')\n",
    "plt.ylabel('Accuracy')\n",
    "plt.ylim([1, 0])\n",
    "plt.legend(loc='upper right')\n",
    "plt.show()"
   ]
  },
  {
   "cell_type": "markdown",
   "metadata": {
    "id": "f6Le05Mb_K9n"
   },
   "source": [
    "## Creating Saliency Maps\n",
    "\n",
    "The problem with creating saliency maps with the custom architecture is that the preloaded model appears as a functional layer. The sublayers in this functional model cannot be called directly. As a result the model gives a \"Graph Disconnected\" error.\n",
    "\n",
    "To workaround this problem a new model is defined without any weights. Weights from pre-trained model are then loaded in this new model and the last conv layer from this model is passed on to the saliency map input and output."
   ]
  },
  {
   "cell_type": "code",
   "execution_count": 63,
   "metadata": {
    "colab": {
     "base_uri": "https://localhost:8080/"
    },
    "id": "kiZLVFVl_K9n",
    "outputId": "b791ec99-2467-459a-cd49-5de2ac6764ac"
   },
   "outputs": [
    {
     "name": "stdout",
     "output_type": "stream",
     "text": [
      "Model: \"sequential_6\"\n",
      "_________________________________________________________________\n",
      "Layer (type)                 Output Shape              Param #   \n",
      "=================================================================\n",
      "efficientnetb5 (Functional)  (None, 8, 8, 2048)        28513527  \n",
      "_________________________________________________________________\n",
      "global_average_pooling2d_7 ( (None, 2048)              0         \n",
      "_________________________________________________________________\n",
      "dense_6 (Dense)              (None, 4)                 8196      \n",
      "=================================================================\n",
      "Total params: 28,521,723\n",
      "Trainable params: 0\n",
      "Non-trainable params: 28,521,723\n",
      "_________________________________________________________________\n"
     ]
    }
   ],
   "source": [
    "# use this cell if loading a pre-trained model\n",
    "model_pretrained = tf.keras.models.load_model('models/effnet_v1.h5')\n",
    "model_pretrained.trainable = False\n",
    "model_pretrained.summary()"
   ]
  },
  {
   "cell_type": "code",
   "execution_count": 64,
   "metadata": {
    "id": "Rdh2AiK16OO5"
   },
   "outputs": [],
   "source": [
    "# define the classifier layer that will be used to calculate the output\n",
    "classifier_layers = ['global_average_pooling2d_7', 'dense_6']"
   ]
  },
  {
   "cell_type": "code",
   "execution_count": null,
   "metadata": {
    "colab": {
     "base_uri": "https://localhost:8080/"
    },
    "id": "ZytdzI2WLrMA",
    "outputId": "01cae257-8312-4414-d716-e33f608d98bd"
   },
   "outputs": [],
   "source": [
    "# define new model\n",
    "base_model = tf.keras.applications.EfficientNetB5(\n",
    "    input_shape=(IMAGE_SIZE, IMAGE_SIZE, 3),\n",
    "    include_top=False,\n",
    "    weights=None\n",
    ")\n",
    "base_model.trainable = False\n",
    "base_model.summary()"
   ]
  },
  {
   "cell_type": "code",
   "execution_count": null,
   "metadata": {
    "colab": {
     "base_uri": "https://localhost:8080/"
    },
    "id": "SgcEoVNxOAvu",
    "outputId": "8abb4cb6-5375-409d-8503-9d43d30d8799"
   },
   "outputs": [],
   "source": [
    "# load weights in the newly created model\n",
    "base_model.load_weights('models/effnet_weights')"
   ]
  },
  {
   "cell_type": "code",
   "execution_count": 92,
   "metadata": {
    "id": "xKRxjSG2_K9o"
   },
   "outputs": [],
   "source": [
    "# get list of examples to create the heatmaps\n",
    "img_path_list = os.listdir('category _examples')"
   ]
  },
  {
   "cell_type": "code",
   "execution_count": 69,
   "metadata": {
    "id": "FSvItXQUbPXa"
   },
   "outputs": [],
   "source": [
    "# function to load images to numpy array and normalize\n",
    "def img_to_np(img_path):\n",
    "    # open image using PIL\n",
    "    img_temp = Image.open(img_path)\n",
    "    img_temp = img_temp.resize((IMAGE_SIZE,IMAGE_SIZE), resample=1)\n",
    "\n",
    "    # convert to np array\n",
    "    img_temp = np.array(img_temp).astype(np.float32)\n",
    "    img_temp = img_temp/255.0\n",
    "    \n",
    "    return img_temp"
   ]
  },
  {
   "cell_type": "code",
   "execution_count": 70,
   "metadata": {
    "id": "7mEzUjup_K9p"
   },
   "outputs": [],
   "source": [
    "# function to cover image with heat map\n",
    "def cover_img(img_path, heatmap):\n",
    "    # Use cv2 to load the original image\n",
    "    img_original = cv2.imread(img_path)\n",
    "\n",
    "    # set the intensity map at 0.5\n",
    "    INTENSITY = 0.5\n",
    "\n",
    "    # Resize the heatmap to have the same size as the original image\n",
    "    heatmap_resized = cv2.resize(heatmap, (img_original.shape[1], img_original.shape[0]))\n",
    "\n",
    "    # Convert the heatmap to RGB\n",
    "    heatmap_resized = np.uint8(255 * heatmap_resized)\n",
    "\n",
    "    # We apply the heatmap to the original image\n",
    "    heatmap_resized = cv2.applyColorMap(heatmap_resized, cv2.COLORMAP_JET)\n",
    "\n",
    "    # processed image\n",
    "    img_new = heatmap_resized * INTENSITY + img_original\n",
    "\n",
    "    return img_new"
   ]
  },
  {
   "cell_type": "markdown",
   "metadata": {
    "id": "dLwHuKNY_K9p"
   },
   "source": [
    "### Get Gradient on Images\n",
    "Finally test the functions on all images. We will also save all the bounding boxes with the file names in a dict."
   ]
  },
  {
   "cell_type": "code",
   "execution_count": 71,
   "metadata": {
    "id": "UZS3kYnx_K9q"
   },
   "outputs": [],
   "source": [
    "# import needed modules\n",
    "from tensorflow import GradientTape"
   ]
  },
  {
   "cell_type": "code",
   "execution_count": null,
   "metadata": {},
   "outputs": [],
   "source": [
    "base_model.summary()"
   ]
  },
  {
   "cell_type": "code",
   "execution_count": 80,
   "metadata": {
    "id": "w7IiI8v57EHP"
   },
   "outputs": [],
   "source": [
    "# last conv layer of the base model\n",
    "last_conv_layer_1 = 'top_conv'"
   ]
  },
  {
   "cell_type": "code",
   "execution_count": 81,
   "metadata": {
    "id": "pGeXnMpH3BiM"
   },
   "outputs": [],
   "source": [
    "def make_gradcam_heatmap(\n",
    "    img_array, model, pre_trained_model, last_conv_layer_name, classifier_layer_names\n",
    "):\n",
    "    # First, we create a model that maps the input image to the activations\n",
    "    # of the last conv layer\n",
    "    last_conv_layer = model.get_layer(last_conv_layer_name)\n",
    "    last_conv_layer_model = tf.keras.Model(model.inputs, last_conv_layer.output)\n",
    "\n",
    "    # Second, we create a model that maps the activations of the last conv\n",
    "    # layer to the final class predictions\n",
    "    classifier_input = tf.keras.Input(shape=last_conv_layer.output.shape[1:])\n",
    "    x = classifier_input\n",
    "    for layer_name in classifier_layer_names:\n",
    "        x = pre_trained_model.get_layer(layer_name)(x)\n",
    "    classifier_model = tf.keras.Model(classifier_input, x)\n",
    "\n",
    "    # Then, we compute the gradient of the top predicted class for our input image\n",
    "    # with respect to the activations of the last conv layer\n",
    "    with tf.GradientTape() as tape:\n",
    "        # Compute activations of the last conv layer and make the tape watch it\n",
    "        last_conv_layer_output = last_conv_layer_model(img_array)\n",
    "        tape.watch(last_conv_layer_output)\n",
    "        # Compute class predictions\n",
    "        preds = classifier_model(last_conv_layer_output)\n",
    "        top_pred_index = tf.argmax(preds[0])\n",
    "        top_class_channel = preds[:, top_pred_index]\n",
    "\n",
    "    # This is the gradient of the top predicted class with regard to\n",
    "    # the output feature map of the last conv layer\n",
    "    grads = tape.gradient(top_class_channel, last_conv_layer_output)\n",
    "\n",
    "    # This is a vector where each entry is the mean intensity of the gradient\n",
    "    # over a specific feature map channel\n",
    "    pooled_grads = tf.reduce_mean(grads, axis=(0, 1, 2))\n",
    "\n",
    "    # We multiply each channel in the feature map array\n",
    "    # by \"how important this channel is\" with regard to the top predicted class\n",
    "    last_conv_layer_output = last_conv_layer_output.numpy()[0]\n",
    "    pooled_grads = pooled_grads.numpy()\n",
    "    for i in range(pooled_grads.shape[-1]):\n",
    "        last_conv_layer_output[:, :, i] *= pooled_grads[i]\n",
    "\n",
    "    # The channel-wise mean of the resulting feature map\n",
    "    # is our heatmap of class activation\n",
    "    heatmap = np.mean(last_conv_layer_output, axis=-1)\n",
    "\n",
    "    # For visualization purpose, we will also normalize the heatmap between 0 & 1\n",
    "    heatmap = np.maximum(heatmap, 0) / np.max(heatmap)\n",
    "    return heatmap"
   ]
  },
  {
   "cell_type": "code",
   "execution_count": 106,
   "metadata": {
    "colab": {
     "base_uri": "https://localhost:8080/",
     "height": 264
    },
    "id": "fjLH0kf18GmR",
    "outputId": "7cda8e5a-0e9b-4d44-fd3e-72f6cd3a8109"
   },
   "outputs": [
    {
     "data": {
      "image/png": "[encoded data removed]",
      "text/plain": [
       "<Figure size 288x288 with 2 Axes>"
      ]
     },
     "metadata": {
      "needs_background": "light"
     },
     "output_type": "display_data"
    },
    {
     "data": {
      "image/png": "[encoded data removed]",
      "text/plain": [
       "<Figure size 288x288 with 2 Axes>"
      ]
     },
     "metadata": {
      "needs_background": "light"
     },
     "output_type": "display_data"
    },
    {
     "data": {
      "image/png": "[encoded data removed]",
      "text/plain": [
       "<Figure size 288x288 with 2 Axes>"
      ]
     },
     "metadata": {
      "needs_background": "light"
     },
     "output_type": "display_data"
    },
    {
     "data": {
      "image/png": "[encoded data removed]",
      "text/plain": [
       "<Figure size 288x288 with 2 Axes>"
      ]
     },
     "metadata": {
      "needs_background": "light"
     },
     "output_type": "display_data"
    },
    {
     "data": {
      "image/png": "[encoded data removed]",
      "text/plain": [
       "<Figure size 288x288 with 2 Axes>"
      ]
     },
     "metadata": {
      "needs_background": "light"
     },
     "output_type": "display_data"
    },
    {
     "data": {
      "image/png": "[encoded data removed]",
      "text/plain": [
       "<Figure size 288x288 with 2 Axes>"
      ]
     },
     "metadata": {
      "needs_background": "light"
     },
     "output_type": "display_data"
    }
   ],
   "source": [
    "for img in img_path_list:\n",
    "    img_path = os.path.join('category _examples',img)\n",
    "    img_temp = img_to_np(img_path)\n",
    "    img_temp = np.expand_dims(img_temp, axis=0)\n",
    "    \n",
    "    htmp = make_gradcam_heatmap(img_temp, base_model, model_pretrained, last_conv_layer_1, classifier_layers)\n",
    "    # the reshape value will very if a different model is used since the shape \n",
    "    # depends on the output of the final conv layer, so make changes accordingly\n",
    "    heatmap = htmp.reshape((8, 8))\n",
    "    plt.matshow(heatmap)\n",
    "    plt.colorbar()\n",
    "    plt.show()\n",
    "    \n",
    "    # save image with heatmap cover\n",
    "    #plt.imshow(cover_img(img_path, htmp), cmap='gray', interpolation='bicubic')\n",
    "    cv2.imwrite(os.path.join('img_heatmap', img), cover_img(img_path, htmp))"
   ]
  },
  {
   "cell_type": "markdown",
   "metadata": {},
   "source": [
    "## Overlain images\n",
    "<img src=\"img_heatmap/dbr1.jpg\" alt=\"diabetic retinopathy\" width=\"200\"/>\n",
    "<img src=\"img_heatmap/dbr2.jpg\" alt=\"diabetic retinopathy\" width=\"200\"/>\n",
    "<img src=\"img_heatmap/glc1.jpg\" alt=\"diabetic retinopathy\" width=\"200\"/>\n",
    "<img src=\"img_heatmap/glc2.jpg\" alt=\"diabetic retinopathy\" width=\"200\"/>\n",
    "<img src=\"img_heatmap/normal1.jpg\" alt=\"diabetic retinopathy\" width=\"200\"/>\n",
    "<img src=\"img_heatmap/normal2.jpg\" alt=\"diabetic retinopathy\" width=\"200\"/>"
   ]
  },
  {
   "cell_type": "markdown",
   "metadata": {
    "id": "C4UyLYQX9JpD"
   },
   "source": [
    "# Label Propogation\n",
    "\n",
    "### Setting up Label Propogation"
   ]
  },
  {
   "cell_type": "markdown",
   "metadata": {
    "id": "uhswtM6oAo--"
   },
   "source": [
    "## Task 3: Using the unlabelled data set in the 'test' folder augment the training data (semi-supervised learning) and report the variation in classification performance on test data set.(15 points)\n",
    "[You may use any method of your choice, one possible way is mentioned below.] \n",
    "\n",
    "```\n",
    "Hint: \n",
    "a. Train a model using the 'train' split.\n",
    "b. Pass the unlabelled images through the trained model and retrieve the dense layer feature prior to classification layer. Using this dense layer as representative of the image, apply label propagation to retrieve labels correspndng to the unbalelled data.\n",
    "c. Next, concatenate the train data with the unlabelled data (that has now been self labelled) and retrain the network.\n",
    "d. Report classification performance on test data\n",
    "Use the unlabelled test data  to improve classification performance by using a semi-supervised label-propagation/self-labelling approach. (20 points)\n",
    "```"
   ]
  },
  {
   "cell_type": "code",
   "execution_count": 326,
   "metadata": {
    "colab": {
     "base_uri": "https://localhost:8080/"
    },
    "id": "qNJoybPw4zML",
    "outputId": "1dd12c57-fa14-467e-d1fd-014c6363c8ff"
   },
   "outputs": [],
   "source": [
    "# load trained model\n",
    "model_pretrained = tf.keras.models.load_model('models/resnet50_v1.h5')\n",
    "model_pretrained.trainable = False"
   ]
  },
  {
   "cell_type": "code",
   "execution_count": 327,
   "metadata": {},
   "outputs": [
    {
     "name": "stdout",
     "output_type": "stream",
     "text": [
      "Model: \"sequential_19\"\n",
      "_________________________________________________________________\n",
      "Layer (type)                 Output Shape              Param #   \n",
      "=================================================================\n",
      "resnet50 (Functional)        (None, 7, 7, 2048)        23587712  \n",
      "_________________________________________________________________\n",
      "global_average_pooling2d_11  (None, 2048)              0         \n",
      "_________________________________________________________________\n",
      "dense_37 (Dense)             (None, 512)               1049088   \n",
      "_________________________________________________________________\n",
      "dropout_16 (Dropout)         (None, 512)               0         \n",
      "_________________________________________________________________\n",
      "dense_38 (Dense)             (None, 4)                 2052      \n",
      "=================================================================\n",
      "Total params: 24,638,852\n",
      "Trainable params: 0\n",
      "Non-trainable params: 24,638,852\n",
      "_________________________________________________________________\n"
     ]
    }
   ],
   "source": [
    "model_pretrained.summary()"
   ]
  },
  {
   "cell_type": "code",
   "execution_count": 328,
   "metadata": {
    "id": "gE85ex-AE-VA"
   },
   "outputs": [],
   "source": [
    "last_dense_layer = 'dense_38'"
   ]
  },
  {
   "cell_type": "code",
   "execution_count": 329,
   "metadata": {
    "id": "6doiG7zDA5q5"
   },
   "outputs": [],
   "source": [
    "# setup to get the output from the last dense layer\n",
    "last_layer = model_pretrained.get_layer(last_dense_layer)\n",
    "last_conv_layer_model = tf.keras.Model(model_pretrained.inputs, last_layer.output)"
   ]
  },
  {
   "cell_type": "code",
   "execution_count": 330,
   "metadata": {
    "colab": {
     "base_uri": "https://localhost:8080/"
    },
    "id": "sDqVpkuHn1c6",
    "outputId": "4d703dfc-31b0-403f-b19a-df106530ba3e"
   },
   "outputs": [
    {
     "data": {
      "text/plain": [
       "(1, 7)"
      ]
     },
     "execution_count": 330,
     "metadata": {},
     "output_type": "execute_result"
    }
   ],
   "source": [
    "# creating a train array for passing to knn\n",
    "pred_train = np.array([ 'name', 'p1', 'p2', 'p3', 'p4', 'labels', 'label_num'])\n",
    "pred_train = np.expand_dims(pred_train, axis=0)\n",
    "pred_train.shape"
   ]
  },
  {
   "cell_type": "code",
   "execution_count": 331,
   "metadata": {},
   "outputs": [],
   "source": [
    "train_original_dir = 'Data/train/train'"
   ]
  },
  {
   "cell_type": "code",
   "execution_count": 332,
   "metadata": {
    "id": "bcE-pGiwCyWq"
   },
   "outputs": [],
   "source": [
    "# iterating over the image folder to collect predictions, names and labels\n",
    "for pic in os.listdir(train_original_dir):\n",
    "    # get image array\n",
    "    im_temp = img_to_np(os.path.join(train_original_dir, pic))\n",
    "    im_temp = np.expand_dims(im_temp, axis=0)\n",
    "\n",
    "    pred_temp = []\n",
    "\n",
    "    # get image label\n",
    "    max_val = 1\n",
    "    labels = [i for i in train_labels.loc[pic].values]\n",
    "\n",
    "    if labels[1] == 1:\n",
    "        pred_temp.append(pic)\n",
    "        for j in last_conv_layer_model.predict(im_temp)[0]:\n",
    "            pred_temp.append(j)\n",
    "        pred_temp.append('diabetic retinopathy')\n",
    "        pred_temp.append(1)\n",
    "    elif labels[2] == 1:\n",
    "        pred_temp.append(pic)\n",
    "        for j in last_conv_layer_model.predict(im_temp)[0]:\n",
    "            pred_temp.append(j)\n",
    "        pred_temp.append('glaucoma')\n",
    "        pred_temp.append(2)\n",
    "    elif labels[6] == 1:\n",
    "        pred_temp.append(pic)\n",
    "        for j in last_conv_layer_model.predict(im_temp)[0]:\n",
    "            pred_temp.append(j)\n",
    "        pred_temp.append('normal')\n",
    "        pred_temp.append(3)\n",
    "    else:\n",
    "        pred_temp.append(pic)\n",
    "        for j in last_conv_layer_model.predict(im_temp)[0]:\n",
    "            pred_temp.append(j)\n",
    "        pred_temp.append('other')\n",
    "        pred_temp.append(4)\n",
    "\n",
    "    pred_train = np.append(pred_train, np.expand_dims(np.array(pred_temp), axis=0), axis=0)"
   ]
  },
  {
   "cell_type": "code",
   "execution_count": 333,
   "metadata": {
    "id": "Wt8uMZ7fxB7b"
   },
   "outputs": [],
   "source": [
    "# extract specific columns from np array\n",
    "# use X = data[:, [1, 9]]\n",
    "X_train = pred_train[1:,[1, 2, 3, 4]]"
   ]
  },
  {
   "cell_type": "code",
   "execution_count": 334,
   "metadata": {
    "id": "XxKhqb6pxtbb"
   },
   "outputs": [],
   "source": [
    "# extract targets\n",
    "y_train = pred_train[1:, [6]]"
   ]
  },
  {
   "cell_type": "code",
   "execution_count": 335,
   "metadata": {
    "id": "IzwTWqqLW1VZ"
   },
   "outputs": [],
   "source": [
    "from sklearn.neighbors import KNeighborsClassifier as KNN"
   ]
  },
  {
   "cell_type": "code",
   "execution_count": 336,
   "metadata": {
    "id": "q43H5DMumQJl"
   },
   "outputs": [],
   "source": [
    "# create a label propagation model\n",
    "prop = KNN(n_neighbors=4)"
   ]
  },
  {
   "cell_type": "code",
   "execution_count": 337,
   "metadata": {
    "colab": {
     "base_uri": "https://localhost:8080/"
    },
    "id": "5z0xg-rZmxMX",
    "outputId": "27538494-26a1-4e49-8ca3-2a7e90a75709"
   },
   "outputs": [
    {
     "data": {
      "text/plain": [
       "KNeighborsClassifier(n_neighbors=4)"
      ]
     },
     "execution_count": 337,
     "metadata": {},
     "output_type": "execute_result"
    }
   ],
   "source": [
    "# fit the model\n",
    "prop.fit(X_train.astype(np.float32), y_train.ravel())"
   ]
  },
  {
   "cell_type": "code",
   "execution_count": 338,
   "metadata": {
    "colab": {
     "base_uri": "https://localhost:8080/"
    },
    "id": "rs8IK0rFrAYQ",
    "outputId": "18555cba-5d95-4153-88ec-c781d6422bee"
   },
   "outputs": [
    {
     "data": {
      "text/plain": [
       "(1, 3)"
      ]
     },
     "execution_count": 338,
     "metadata": {},
     "output_type": "execute_result"
    }
   ],
   "source": [
    "# predict labels for the test folder\n",
    "# creating a test array for passing to knn model\n",
    "pred_test = np.array(['name', 'labels', 'label_num'])\n",
    "pred_test = np.expand_dims(pred_test, axis=0)\n",
    "pred_test.shape"
   ]
  },
  {
   "cell_type": "code",
   "execution_count": 339,
   "metadata": {
    "id": "l1Zjb8B3rfNY"
   },
   "outputs": [],
   "source": [
    "# create labels for the test images\n",
    "# iterating over the image folder to collect predictions, names and labels\n",
    "for pic in os.listdir(test_img_dir):\n",
    "    # get image array\n",
    "    im_temp = img_to_np(os.path.join(test_img_dir, pic))\n",
    "    im_temp = np.expand_dims(im_temp, axis=0)\n",
    "\n",
    "    pred_temp = []\n",
    "\n",
    "    # get image predited labels\n",
    "    label_predicted = prop.predict(np.expand_dims(\n",
    "        last_conv_layer_model.predict(im_temp)[0], axis=0))\n",
    "  \n",
    "    # append labels to the new array\n",
    "    if int(label_predicted[0]) == 1:\n",
    "        pred_temp.append(pic)\n",
    "        pred_temp.append('diabetic retinopathy')\n",
    "        pred_temp.append(1)\n",
    "\n",
    "    elif int(label_predicted[0]) == 2:\n",
    "        pred_temp.append(pic)\n",
    "        pred_temp.append('galucoma')\n",
    "        pred_temp.append(2)\n",
    "\n",
    "    elif int(label_predicted[0]) == 3:\n",
    "        pred_temp.append(pic)\n",
    "        pred_temp.append('normal')\n",
    "        pred_temp.append(3)\n",
    "\n",
    "    else:\n",
    "        pred_temp.append(pic)\n",
    "        pred_temp.append('other')\n",
    "        pred_temp.append(4)\n",
    "\n",
    "    pred_test = np.append(pred_test, np.expand_dims(np.array(pred_temp), axis=0), axis=0)"
   ]
  },
  {
   "cell_type": "markdown",
   "metadata": {
    "id": "T_LDHBe_va0c"
   },
   "source": [
    "### Append the test data to train data"
   ]
  },
  {
   "cell_type": "code",
   "execution_count": 340,
   "metadata": {},
   "outputs": [
    {
     "data": {
      "text/plain": [
       "(350, 3)"
      ]
     },
     "execution_count": 340,
     "metadata": {},
     "output_type": "execute_result"
    }
   ],
   "source": [
    "pred_test_ = pred_test[1:]\n",
    "pred_test_.shape"
   ]
  },
  {
   "cell_type": "code",
   "execution_count": 341,
   "metadata": {
    "id": "27J4yQuxvd18"
   },
   "outputs": [],
   "source": [
    "# create new folders with images\n",
    "new_image_dir = 'Data/separated_pics_aug'\n",
    "\n",
    "for row in pred_test_:\n",
    "    file_name = row[0]\n",
    "    label_num = row[2]\n",
    "\n",
    "    if label_num == 1:\n",
    "        shutil.copy(os.path.join(test_img_dir, file_name), \n",
    "                    os.path.join(new_image_dir, 'diabetic retinopathy/'+file_name))\n",
    "  \n",
    "    elif label_num == 2:\n",
    "        shutil.copy(os.path.join(test_img_dir, file_name), \n",
    "                    os.path.join(new_image_dir, 'glaucoma/'+file_name))\n",
    "    \n",
    "    elif label_num == 3:\n",
    "        shutil.copy(os.path.join(test_img_dir, file_name), \n",
    "                    os.path.join(new_image_dir, 'normal/'+file_name))\n",
    "  \n",
    "    else:\n",
    "        shutil.copy(os.path.join(test_img_dir, file_name), \n",
    "                    os.path.join(new_image_dir, 'other/'+file_name))"
   ]
  },
  {
   "cell_type": "markdown",
   "metadata": {
    "id": "JDdUACUU_aOJ"
   },
   "source": [
    "## Train on Concatenated Data"
   ]
  },
  {
   "cell_type": "code",
   "execution_count": 342,
   "metadata": {},
   "outputs": [
    {
     "name": "stdout",
     "output_type": "stream",
     "text": [
      "755\n",
      "755\n",
      "578\n",
      "578\n",
      "525\n",
      "525\n",
      "749\n",
      "1099\n"
     ]
    }
   ],
   "source": [
    "# check if the data has been added\n",
    "print(len(os.listdir('Data/separated_pics_train/diabetic retinopathy')))\n",
    "print(len(os.listdir('Data/separated_pics_aug/diabetic retinopathy')))\n",
    "print(len(os.listdir('Data/separated_pics_train/glaucoma')))\n",
    "print(len(os.listdir('Data/separated_pics_aug/glaucoma')))\n",
    "print(len(os.listdir('Data/separated_pics_train/normal')))\n",
    "print(len(os.listdir('Data/separated_pics_aug/normal')))\n",
    "print(len(os.listdir('Data/separated_pics_train/other')))\n",
    "print(len(os.listdir('Data/separated_pics_aug/other')))"
   ]
  },
  {
   "cell_type": "code",
   "execution_count": 343,
   "metadata": {
    "id": "c2FOS_XA3Kgb"
   },
   "outputs": [],
   "source": [
    "# define image size and channels\n",
    "IMAGE_SIZE = 256\n",
    "CHANNELS = 3\n",
    "\n",
    "BATCH_SIZE = 64"
   ]
  },
  {
   "cell_type": "code",
   "execution_count": 344,
   "metadata": {
    "id": "3WoCkfqj6pNU"
   },
   "outputs": [],
   "source": [
    "# training image dir\n",
    "train_img_dir = os.path.join(data_path, 'separated_pics_aug')\n",
    "\n",
    "# testing image dir\n",
    "test_img_dir = 'Data/test'"
   ]
  },
  {
   "cell_type": "code",
   "execution_count": 349,
   "metadata": {
    "id": "ivs-oNfSwdnW"
   },
   "outputs": [],
   "source": [
    "train_datagen = ImageDataGenerator(\n",
    "    rotation_range=10.,\n",
    "    width_shift_range=0.2,\n",
    "    height_shift_range=0.2,\n",
    "    channel_shift_range=0.1,\n",
    "    horizontal_flip=True,\n",
    "    vertical_flip=True,\n",
    "    brightness_range=(-0.5,0.5),\n",
    "    fill_mode='constant',\n",
    "    data_format=\"channels_last\",\n",
    "    #preprocessing_function=tf.keras.applications.vgg19.preprocess_input,\n",
    "    preprocessing_function=contrast,\n",
    "    validation_split = 0.3,\n",
    "    rescale=1.0/255.0\n",
    ")"
   ]
  },
  {
   "cell_type": "code",
   "execution_count": 350,
   "metadata": {
    "id": "nsUJYt0mytWI"
   },
   "outputs": [
    {
     "name": "stdout",
     "output_type": "stream",
     "text": [
      "Found 2072 images belonging to 4 classes.\n"
     ]
    }
   ],
   "source": [
    "# create training data\n",
    "train_gen = train_datagen.flow_from_directory(\n",
    "    directory=train_img_dir,\n",
    "    shuffle=True, \n",
    "    target_size=(IMAGE_SIZE,IMAGE_SIZE),\n",
    "    batch_size=BATCH_SIZE,\n",
    "    subset='training'\n",
    ")"
   ]
  },
  {
   "cell_type": "code",
   "execution_count": 351,
   "metadata": {},
   "outputs": [
    {
     "name": "stdout",
     "output_type": "stream",
     "text": [
      "Found 885 images belonging to 4 classes.\n"
     ]
    }
   ],
   "source": [
    "# create training data\n",
    "val_gen = train_datagen.flow_from_directory(\n",
    "    directory=train_img_dir,\n",
    "    shuffle=True, \n",
    "    target_size=(IMAGE_SIZE,IMAGE_SIZE),\n",
    "    batch_size=BATCH_SIZE,\n",
    "    subset='validation'\n",
    ")"
   ]
  },
  {
   "cell_type": "markdown",
   "metadata": {
    "id": "oR8iRNCIzpvy"
   },
   "source": [
    "### Creating callback for saving models and stopping training if certain accuracy is reached."
   ]
  },
  {
   "cell_type": "markdown",
   "metadata": {
    "id": "Ev1qOfkS0HYb"
   },
   "source": [
    "Download application from the tf.keras.application"
   ]
  },
  {
   "cell_type": "code",
   "execution_count": 317,
   "metadata": {
    "id": "3y2sgtyW0DCn"
   },
   "outputs": [],
   "source": [
    "# importing resnet50 from tensorflow applications\n",
    "base_model = tf.keras.applications.ResNet50(\n",
    "    input_shape=(IMAGE_SIZE, IMAGE_SIZE, 3),\n",
    "    include_top=False,\n",
    "    weights='imagenet')"
   ]
  },
  {
   "cell_type": "code",
   "execution_count": 318,
   "metadata": {
    "id": "_gcyfhHO01y0"
   },
   "outputs": [],
   "source": [
    "base_model.trainable = True\n",
    "#base_model.summary()"
   ]
  },
  {
   "cell_type": "code",
   "execution_count": 319,
   "metadata": {
    "id": "utefTjwS1dQf"
   },
   "outputs": [],
   "source": [
    "# select a layer to start optimizing from, \n",
    "# here we will train only the later half of the model\n",
    "train_layer = base_model.get_layer('conv4_block4_1_conv')\n",
    "\n",
    "# get train_layer index\n",
    "layer_index = base_model.layers.index(train_layer)"
   ]
  },
  {
   "cell_type": "code",
   "execution_count": 320,
   "metadata": {
    "id": "kI5lDdNv2-nu"
   },
   "outputs": [],
   "source": [
    "# make layers before the training layer non trainable\n",
    "for layer in base_model.layers[:layer_index]:\n",
    "    layer.trainable = False"
   ]
  },
  {
   "cell_type": "markdown",
   "metadata": {},
   "source": [
    "Skipping the final activation layer and just getting the logits as these will be used for the final part of the assignment"
   ]
  },
  {
   "cell_type": "code",
   "execution_count": 321,
   "metadata": {
    "id": "EnLvN2os25WE"
   },
   "outputs": [
    {
     "name": "stdout",
     "output_type": "stream",
     "text": [
      "Model: \"sequential_24\"\n",
      "_________________________________________________________________\n",
      "Layer (type)                 Output Shape              Param #   \n",
      "=================================================================\n",
      "resnet50 (Functional)        (None, 7, 7, 2048)        23587712  \n",
      "_________________________________________________________________\n",
      "global_average_pooling2d_16  (None, 2048)              0         \n",
      "_________________________________________________________________\n",
      "dense_46 (Dense)             (None, 4)                 8196      \n",
      "=================================================================\n",
      "Total params: 23,595,908\n",
      "Trainable params: 18,340,356\n",
      "Non-trainable params: 5,255,552\n",
      "_________________________________________________________________\n"
     ]
    }
   ],
   "source": [
    "# define model\n",
    "model = tf.keras.Sequential([\n",
    "    base_model,\n",
    "    tf.keras.layers.GlobalAveragePooling2D(),\n",
    "    tf.keras.layers.Dense(4, activation='softmax')\n",
    "])\n",
    "\n",
    "model.summary()"
   ]
  },
  {
   "cell_type": "code",
   "execution_count": 322,
   "metadata": {},
   "outputs": [],
   "source": [
    "# compile model\n",
    "model.compile(optimizer=tf.keras.optimizers.Adam(lr=0.001),\n",
    "              loss='categorical_crossentropy',\n",
    "              metrics='accuracy')"
   ]
  },
  {
   "cell_type": "code",
   "execution_count": null,
   "metadata": {},
   "outputs": [
    {
     "name": "stdout",
     "output_type": "stream",
     "text": [
      "Epoch 1/100\n",
      "32/32 [==============================] - ETA: 0s - loss: 1.3753 - accuracy: 0.3327INFO:tensorflow:Assets written to: models/acc_ckpts/assets\n",
      "32/32 [==============================] - 107s 3s/step - loss: 1.3753 - accuracy: 0.3327 - val_loss: 435.1318 - val_accuracy: 0.3678\n",
      "Epoch 2/100\n",
      "32/32 [==============================] - ETA: 0s - loss: 1.3614 - accuracy: 0.3675INFO:tensorflow:Assets written to: models/acc_ckpts/assets\n",
      "32/32 [==============================] - 90s 3s/step - loss: 1.3614 - accuracy: 0.3675 - val_loss: 29.0607 - val_accuracy: 0.3798\n",
      "Epoch 3/100\n",
      "32/32 [==============================] - 68s 2s/step - loss: 1.3663 - accuracy: 0.3635 - val_loss: 13.4626 - val_accuracy: 0.3738\n",
      "Epoch 4/100\n",
      "32/32 [==============================] - ETA: 0s - loss: 1.3590 - accuracy: 0.3635INFO:tensorflow:Assets written to: models/acc_ckpts/assets\n",
      "32/32 [==============================] - 90s 3s/step - loss: 1.3590 - accuracy: 0.3635 - val_loss: 2.0717 - val_accuracy: 0.2464\n",
      "Epoch 5/100\n",
      "32/32 [==============================] - ETA: 0s - loss: 1.4009 - accuracy: 0.3277"
     ]
    }
   ],
   "source": [
    "# train model\n",
    "history = model.fit(train_gen,\n",
    "                    steps_per_epoch=train_gen.samples // BATCH_SIZE,\n",
    "                    epochs= 100,\n",
    "                    verbose=1,\n",
    "                    validation_data=val_gen,\n",
    "                    validation_steps=val_gen.samples // BATCH_SIZE,\n",
    "                    callbacks=[accuracy_callback])\n",
    "                    #callbacks=[stop_train, accuracy_callback, lr_decay])"
   ]
  },
  {
   "cell_type": "code",
   "execution_count": null,
   "metadata": {},
   "outputs": [],
   "source": [
    "# plottig history\n",
    "import matplotlib.pyplot as plt\n",
    "\n",
    "plt.plot(history.history['accuracy'], label='accuracy')\n",
    "plt.plot(history.history['val_accuracy'], label = 'val_accuracy')\n",
    "plt.xlabel('Epoch')\n",
    "plt.ylabel('Accuracy')\n",
    "plt.ylim([1, 0])\n",
    "plt.legend(loc='upper right')\n",
    "plt.show()"
   ]
  },
  {
   "cell_type": "code",
   "execution_count": null,
   "metadata": {},
   "outputs": [],
   "source": [
    "model.save('models/resnet50_augumented.h5')"
   ]
  },
  {
   "cell_type": "code",
   "execution_count": null,
   "metadata": {},
   "outputs": [],
   "source": []
  }
 ],
 "metadata": {
  "accelerator": "GPU",
  "colab": {
   "collapsed_sections": [],
   "name": "Rana ML_for_Computer_Vision.ipynb",
   "provenance": []
  },
  "environment": {
   "name": "tf2-2-3-gpu.2-3.m59",
   "type": "gcloud",
   "uri": "gcr.io/deeplearning-platform-release/tf2-2-3-gpu.2-3:m59"
  },
  "kernelspec": {
   "display_name": "Python 3",
   "language": "python",
   "name": "python3"
  },
  "language_info": {
   "codemirror_mode": {
    "name": "ipython",
    "version": 3
   },
   "file_extension": ".py",
   "mimetype": "text/x-python",
   "name": "python",
   "nbconvert_exporter": "python",
   "pygments_lexer": "ipython3",
   "version": "3.7.8"
  }
 },
 "nbformat": 4,
 "nbformat_minor": 4
}
