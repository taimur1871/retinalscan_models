{
 "cells": [
  {
   "cell_type": "markdown",
   "metadata": {
    "id": "dQ8_RRcaZNXV"
   },
   "source": [
    "## This assignment is designed for automated pathology detection for Medical Images in a relalistic setup, i.e. each image may have multiple pathologies/disorders. \n",
    "### The goal, for you as an MLE, is to design models and methods to predictively detect pathological images and explain the pathology sites in the image data."
   ]
  },
  {
   "cell_type": "markdown",
   "metadata": {
    "id": "eK8M8sjWZVg9"
   },
   "source": [
    "## Data for this assignment is taken from a Kaggle contest: https://www.kaggle.com/c/vietai-advance-course-retinal-disease-detection/overview\n",
    "Explanation of the data set:\n",
    "The training data set contains 3435 retinal images that represent multiple pathological disorders. The patholgy classes and corresponding labels are: included in 'train.csv' file and each image can have more than one class category (multiple pathologies).\n",
    "The labels for each image are\n",
    "\n",
    "```\n",
    "-opacity (0), \n",
    "-diabetic retinopathy (1), \n",
    "-glaucoma (2),\n",
    "-macular edema (3),\n",
    "-macular degeneration (4),\n",
    "-retinal vascular occlusion (5)\n",
    "-normal (6)\n",
    "```\n",
    "The test data set contains 350 unlabelled images."
   ]
  },
  {
   "cell_type": "markdown",
   "metadata": {
    "id": "LhDeT7B2Zk2S"
   },
   "source": [
    "## Task 2: Visualize the heatmap/saliency/features using any method of your choice to demonstrate what regions of interest contribute to Diabetic Retinopathy and Glaucoma, respectively. (25 points)\n",
    "```\n",
    "Submit images/folder of images with heatmaps/features aligned on top of the images, or corresponding bounding boxes, and report what regions of interest in your opinion represent the pathological sites.\n",
    "```"
   ]
  },
  {
   "cell_type": "markdown",
   "metadata": {
    "id": "yDtJ-ochsLL9"
   },
   "source": [
    "# Task 2: Create Heatmaps"
   ]
  },
  {
   "cell_type": "code",
   "execution_count": 1,
   "metadata": {
    "id": "bljPwe0Hac4s"
   },
   "outputs": [],
   "source": [
    "# importing the required modules\n",
    "import pandas as pd\n",
    "import numpy as np\n",
    "import cv2\n",
    "from PIL import Image, ImageEnhance\n",
    "import os\n",
    "import shutil\n",
    "\n",
    "import numpy as np\n",
    "\n",
    "import matplotlib.pyplot as plt\n",
    "import matplotlib.image as mpimg\n",
    "\n",
    "#from google.colab.patches import cv2_imshow\n",
    "\n",
    "import tensorflow as tf\n",
    "from tensorflow.keras.preprocessing.image import ImageDataGenerator\n",
    "from tensorflow.keras.backend import gradients, mean\n",
    "\n",
    "from sklearn.model_selection import train_test_split"
   ]
  },
  {
   "cell_type": "code",
   "execution_count": 2,
   "metadata": {
    "id": "O32oTKmbZJJu"
   },
   "outputs": [],
   "source": [
    "# find path for the data\n",
    "data_path = 'Data'"
   ]
  },
  {
   "cell_type": "markdown",
   "metadata": {
    "id": "6PljE5vNbXwd"
   },
   "source": [
    "### Create Data Pipelines"
   ]
  },
  {
   "cell_type": "code",
   "execution_count": 3,
   "metadata": {},
   "outputs": [],
   "source": [
    "# direcotries containing files\n",
    "normal_dir = 'Data/separated_pics_train/normal'\n",
    "glaucoma_dir = 'Data/separated_pics_train/glaucoma'\n",
    "dbr_dir = 'Data/separated_pics_train/diabetic retinopathy'\n",
    "other_dir = 'Data/separated_pics_train/other'"
   ]
  },
  {
   "cell_type": "markdown",
   "metadata": {
    "id": "f6Le05Mb_K9n"
   },
   "source": [
    "## Creating Saliency Maps\n",
    "\n",
    "The problem with creating saliency maps with the custom architecture is that the preloaded model appears as a functional layer. The sublayers in this functional model cannot be called directly. As a result the model gives a \"Graph Disconnected\" error. However, with this custom model it is possible to call any layer without an issue."
   ]
  },
  {
   "cell_type": "code",
   "execution_count": 3,
   "metadata": {
    "colab": {
     "base_uri": "https://localhost:8080/"
    },
    "id": "kiZLVFVl_K9n",
    "outputId": "b791ec99-2467-459a-cd49-5de2ac6764ac"
   },
   "outputs": [
    {
     "name": "stdout",
     "output_type": "stream",
     "text": [
      "Model: \"functional_3\"\n",
      "__________________________________________________________________________________________________\n",
      "Layer (type)                    Output Shape         Param #     Connected to                     \n",
      "==================================================================================================\n",
      "input_2 (InputLayer)            [(None, 224, 224, 3) 0                                            \n",
      "__________________________________________________________________________________________________\n",
      "conv2d_8 (Conv2D)               (None, 222, 222, 256 7168        input_2[0][0]                    \n",
      "__________________________________________________________________________________________________\n",
      "max_pooling2d_8 (MaxPooling2D)  (None, 111, 111, 256 0           conv2d_8[0][0]                   \n",
      "__________________________________________________________________________________________________\n",
      "conv2d_12 (Conv2D)              (None, 109, 109, 256 590080      max_pooling2d_8[0][0]            \n",
      "__________________________________________________________________________________________________\n",
      "max_pooling2d_12 (MaxPooling2D) (None, 54, 54, 256)  0           conv2d_12[0][0]                  \n",
      "__________________________________________________________________________________________________\n",
      "conv2d_13 (Conv2D)              (None, 52, 52, 64)   147520      max_pooling2d_12[0][0]           \n",
      "__________________________________________________________________________________________________\n",
      "max_pooling2d_13 (MaxPooling2D) (None, 26, 26, 64)   0           conv2d_13[0][0]                  \n",
      "__________________________________________________________________________________________________\n",
      "conv2d_14 (Conv2D)              (None, 26, 26, 128)  8320        max_pooling2d_13[0][0]           \n",
      "__________________________________________________________________________________________________\n",
      "conv2d_9 (Conv2D)               (None, 109, 109, 32) 73760       max_pooling2d_8[0][0]            \n",
      "__________________________________________________________________________________________________\n",
      "max_pooling2d_14 (MaxPooling2D) (None, 13, 13, 128)  0           conv2d_14[0][0]                  \n",
      "__________________________________________________________________________________________________\n",
      "max_pooling2d_9 (MaxPooling2D)  (None, 54, 54, 32)   0           conv2d_9[0][0]                   \n",
      "__________________________________________________________________________________________________\n",
      "conv2d_15 (Conv2D)              (None, 11, 11, 64)   73792       max_pooling2d_14[0][0]           \n",
      "__________________________________________________________________________________________________\n",
      "conv2d_10 (Conv2D)              (None, 52, 52, 32)   9248        max_pooling2d_9[0][0]            \n",
      "__________________________________________________________________________________________________\n",
      "max_pooling2d_15 (MaxPooling2D) (None, 5, 5, 64)     0           conv2d_15[0][0]                  \n",
      "__________________________________________________________________________________________________\n",
      "max_pooling2d_10 (MaxPooling2D) (None, 26, 26, 32)   0           conv2d_10[0][0]                  \n",
      "__________________________________________________________________________________________________\n",
      "flatten_3 (Flatten)             (None, 1600)         0           max_pooling2d_15[0][0]           \n",
      "__________________________________________________________________________________________________\n",
      "conv2d_11 (Conv2D)              (None, 24, 24, 32)   9248        max_pooling2d_10[0][0]           \n",
      "__________________________________________________________________________________________________\n",
      "dense_9 (Dense)                 (None, 256)          409856      flatten_3[0][0]                  \n",
      "__________________________________________________________________________________________________\n",
      "max_pooling2d_11 (MaxPooling2D) (None, 12, 12, 32)   0           conv2d_11[0][0]                  \n",
      "__________________________________________________________________________________________________\n",
      "dense_10 (Dense)                (None, 128)          32896       dense_9[0][0]                    \n",
      "__________________________________________________________________________________________________\n",
      "flatten_2 (Flatten)             (None, 4608)         0           max_pooling2d_11[0][0]           \n",
      "__________________________________________________________________________________________________\n",
      "dense_11 (Dense)                (None, 128)          16512       dense_10[0][0]                   \n",
      "__________________________________________________________________________________________________\n",
      "dense_7 (Dense)                 (None, 64)           294976      flatten_2[0][0]                  \n",
      "__________________________________________________________________________________________________\n",
      "dense_12 (Dense)                (None, 64)           8256        dense_11[0][0]                   \n",
      "__________________________________________________________________________________________________\n",
      "dense_8 (Dense)                 (None, 64)           4160        dense_7[0][0]                    \n",
      "__________________________________________________________________________________________________\n",
      "add_1 (Add)                     (None, 64)           0           dense_12[0][0]                   \n",
      "                                                                 dense_8[0][0]                    \n",
      "__________________________________________________________________________________________________\n",
      "dense_13 (Dense)                (None, 2)            130         add_1[0][0]                      \n",
      "==================================================================================================\n",
      "Total params: 1,685,922\n",
      "Trainable params: 0\n",
      "Non-trainable params: 1,685,922\n",
      "__________________________________________________________________________________________________\n"
     ]
    }
   ],
   "source": [
    "# use this cell if loading a pre-trained model\n",
    "model_pretrained = tf.keras.models.load_model('models/dbr_v1.h5')\n",
    "model_pretrained.trainable = False\n",
    "model_pretrained.summary()"
   ]
  },
  {
   "cell_type": "code",
   "execution_count": 4,
   "metadata": {
    "id": "c2FOS_XA3Kgb"
   },
   "outputs": [],
   "source": [
    "# define image size and channels\n",
    "IMAGE_SIZE = 224\n",
    "CHANNELS = 3\n",
    "\n",
    "BATCH_SIZE = 64"
   ]
  },
  {
   "cell_type": "code",
   "execution_count": 5,
   "metadata": {},
   "outputs": [],
   "source": [
    "# increasing contrast and brightness\n",
    "def contrast(img_np):\n",
    "    img = tf.image.adjust_contrast(img_np, 2)\n",
    "    img = tf.image.adjust_brightness(img, 0.5)\n",
    "    return img"
   ]
  },
  {
   "cell_type": "markdown",
   "metadata": {
    "id": "Ev1qOfkS0HYb"
   },
   "source": [
    "### Create model"
   ]
  },
  {
   "cell_type": "markdown",
   "metadata": {},
   "source": [
    "Skipping the final activation layer and just getting the logits as these will be used for the final part of the assignment"
   ]
  },
  {
   "cell_type": "code",
   "execution_count": 64,
   "metadata": {
    "id": "Rdh2AiK16OO5"
   },
   "outputs": [],
   "source": [
    "# define the classifier layer that will be used to calculate the output\n",
    "classifier_layers = ['global_average_pooling2d_7', 'dense_6']"
   ]
  },
  {
   "cell_type": "code",
   "execution_count": 6,
   "metadata": {
    "id": "xKRxjSG2_K9o"
   },
   "outputs": [],
   "source": [
    "# get list of examples to create the heatmaps\n",
    "img_path_list = os.listdir('category _examples')"
   ]
  },
  {
   "cell_type": "code",
   "execution_count": 7,
   "metadata": {
    "id": "FSvItXQUbPXa"
   },
   "outputs": [],
   "source": [
    "# function to load images to numpy array and normalize\n",
    "def img_to_np(img_path):\n",
    "    # open image using PIL\n",
    "    img_temp = Image.open(img_path)\n",
    "    img_temp = img_temp.resize((IMAGE_SIZE,IMAGE_SIZE), resample=1)\n",
    "\n",
    "    # convert to np array\n",
    "    img_temp = np.array(img_temp).astype(np.float32)\n",
    "    img_temp = img_temp/255.0\n",
    "    \n",
    "    return img_temp"
   ]
  },
  {
   "cell_type": "code",
   "execution_count": 8,
   "metadata": {
    "id": "7mEzUjup_K9p"
   },
   "outputs": [],
   "source": [
    "# function to cover image with heat map\n",
    "def cover_img(img_path, heatmap):\n",
    "    # Use cv2 to load the original image\n",
    "    img_original = cv2.imread(img_path)\n",
    "\n",
    "    # set the intensity map at 0.5\n",
    "    INTENSITY = 0.5\n",
    "\n",
    "    # Resize the heatmap to have the same size as the original image\n",
    "    heatmap_resized = cv2.resize(heatmap, (img_original.shape[1], img_original.shape[0]))\n",
    "\n",
    "    # Convert the heatmap to RGB\n",
    "    heatmap_resized = np.uint8(255 * heatmap_resized)\n",
    "\n",
    "    # We apply the heatmap to the original image\n",
    "    heatmap_resized = cv2.applyColorMap(heatmap_resized, cv2.COLORMAP_JET)\n",
    "\n",
    "    # processed image\n",
    "    img_new = heatmap_resized * INTENSITY + img_original\n",
    "\n",
    "    return img_new"
   ]
  },
  {
   "cell_type": "markdown",
   "metadata": {
    "id": "dLwHuKNY_K9p"
   },
   "source": [
    "### Get Gradient on Images\n",
    "Finally test the functions on all images. We will also save all the bounding boxes with the file names in a dict."
   ]
  },
  {
   "cell_type": "code",
   "execution_count": 9,
   "metadata": {
    "id": "UZS3kYnx_K9q"
   },
   "outputs": [],
   "source": [
    "# import needed modules\n",
    "from tensorflow import GradientTape"
   ]
  },
  {
   "cell_type": "code",
   "execution_count": 10,
   "metadata": {
    "id": "w7IiI8v57EHP"
   },
   "outputs": [],
   "source": [
    "# last conv layer of the base model\n",
    "last_conv_layer_1 = 'conv2d_11'"
   ]
  },
  {
   "cell_type": "code",
   "execution_count": 16,
   "metadata": {},
   "outputs": [
    {
     "name": "stdout",
     "output_type": "stream",
     "text": [
      "category _examples/normal2.jpg\n"
     ]
    },
    {
     "data": {
      "image/png": "[encoded data removed]",
      "text/plain": [
       "<Figure size 288x288 with 2 Axes>"
      ]
     },
     "metadata": {
      "needs_background": "light"
     },
     "output_type": "display_data"
    },
    {
     "name": "stdout",
     "output_type": "stream",
     "text": [
      "category _examples/glc1.jpg\n"
     ]
    },
    {
     "data": {
      "image/png": "[encoded data removed]",
      "text/plain": [
       "<Figure size 288x288 with 2 Axes>"
      ]
     },
     "metadata": {
      "needs_background": "light"
     },
     "output_type": "display_data"
    },
    {
     "name": "stdout",
     "output_type": "stream",
     "text": [
      "category _examples/dbr1.jpg\n"
     ]
    },
    {
     "data": {
      "image/png": "[encoded data removed]",
      "text/plain": [
       "<Figure size 288x288 with 2 Axes>"
      ]
     },
     "metadata": {
      "needs_background": "light"
     },
     "output_type": "display_data"
    },
    {
     "name": "stdout",
     "output_type": "stream",
     "text": [
      "category _examples/glc2.jpg\n"
     ]
    },
    {
     "data": {
      "image/png": "[encoded data removed]",
      "text/plain": [
       "<Figure size 288x288 with 2 Axes>"
      ]
     },
     "metadata": {
      "needs_background": "light"
     },
     "output_type": "display_data"
    },
    {
     "name": "stdout",
     "output_type": "stream",
     "text": [
      "category _examples/normal1.jpg\n"
     ]
    },
    {
     "data": {
      "image/png": "[encoded data removed]",
      "text/plain": [
       "<Figure size 288x288 with 2 Axes>"
      ]
     },
     "metadata": {
      "needs_background": "light"
     },
     "output_type": "display_data"
    },
    {
     "name": "stdout",
     "output_type": "stream",
     "text": [
      "category _examples/dbr2.jpg\n"
     ]
    },
    {
     "data": {
      "image/png": "[encoded data removed]",
      "text/plain": [
       "<Figure size 288x288 with 2 Axes>"
      ]
     },
     "metadata": {
      "needs_background": "light"
     },
     "output_type": "display_data"
    }
   ],
   "source": [
    "# plot gradient map\n",
    "for pic in img_path_list:\n",
    "    pic_path = os.path.join('category _examples', pic)\n",
    "    print(pic_path)\n",
    "  \n",
    "    # load each image to pass to model to make predictions\n",
    "    img_temp = img_to_np(pic_path)\n",
    "    preds = model_pretrained.predict(np.expand_dims(img_temp, axis=0))\n",
    "\n",
    "    # creating heat maps\n",
    "    with GradientTape() as tape:\n",
    "        # getting the last conv layer of the model, might have to change this to a layer above\n",
    "        last_conv_layer = model_pretrained.get_layer('conv2d_11')\n",
    "\n",
    "        # iterate will allow us to access the values of the quatities defined below i.e.\n",
    "        # pooled_grads and the outputs of the last conv layer\n",
    "        iterate = tf.keras.models.Model([model_pretrained.inputs], \n",
    "                                        [model_pretrained.output, last_conv_layer.output])\n",
    "        model_out, last_conv_layer = iterate(np.expand_dims(img_temp, axis=0))\n",
    "        class_out = model_out[:, np.argmax(model_out[0])]\n",
    "\n",
    "        # calculate teh gradients of the class wrt to last layer\n",
    "        grads = tape.gradient(class_out, last_conv_layer)\n",
    "        pooled_grads = mean(grads, axis=(0, 1, 2))\n",
    "\n",
    "        heatmap = tf.reduce_mean(tf.multiply(pooled_grads, last_conv_layer), axis=-1)\n",
    "\n",
    "    # plot original heatmap\n",
    "    heatmap = np.maximum(heatmap, 0)\n",
    "    heatmap /= np.max(heatmap)\n",
    "\n",
    "    # the reshape value will very if a different model is used since the shape \n",
    "    # depends on the output of the final conv layer, so make changes accordingly\n",
    "    heatmap = heatmap.reshape((24, 24))\n",
    "    plt.matshow(heatmap)\n",
    "    plt.colorbar()\n",
    "    plt.show()\n",
    "\n",
    "    # save image with heatmap cover\n",
    "    #plt.imshow(cover_img(img_path, htmp), cmap='gray', interpolation='bicubic')\n",
    "    cv2.imwrite(os.path.join('img_heatmap', pic), cover_img(pic_path, heatmap))"
   ]
  },
  {
   "cell_type": "markdown",
   "metadata": {},
   "source": [
    "## Overlain images\n",
    "<img src=\"img_heatmap/dbr1.jpg\" alt=\"diabetic retinopathy\" width=\"200\"/>\n",
    "<img src=\"img_heatmap/dbr2.jpg\" alt=\"diabetic retinopathy\" width=\"200\"/>\n",
    "<img src=\"img_heatmap/normal1.jpg\" alt=\"normal\" width=\"200\"/>\n",
    "<img src=\"img_heatmap/normal2.jpg\" alt=\"normal\" width=\"200\"/>"
   ]
  },
  {
   "cell_type": "code",
   "execution_count": null,
   "metadata": {},
   "outputs": [],
   "source": []
  }
 ],
 "metadata": {
  "accelerator": "GPU",
  "colab": {
   "collapsed_sections": [],
   "name": "Rana ML_for_Computer_Vision.ipynb",
   "provenance": []
  },
  "environment": {
   "name": "tf2-2-3-gpu.2-3.m59",
   "type": "gcloud",
   "uri": "gcr.io/deeplearning-platform-release/tf2-2-3-gpu.2-3:m59"
  },
  "kernelspec": {
   "display_name": "Python 3",
   "language": "python",
   "name": "python3"
  },
  "language_info": {
   "codemirror_mode": {
    "name": "ipython",
    "version": 3
   },
   "file_extension": ".py",
   "mimetype": "text/x-python",
   "name": "python",
   "nbconvert_exporter": "python",
   "pygments_lexer": "ipython3",
   "version": "3.7.8"
  }
 },
 "nbformat": 4,
 "nbformat_minor": 4
}
